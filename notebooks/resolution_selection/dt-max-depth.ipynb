{
 "cells": [
  {
   "cell_type": "code",
   "execution_count": 28,
   "metadata": {},
   "outputs": [],
   "source": [
    "import numpy as np\n",
    "import os\n",
    "import pandas as pd\n",
    "\n",
    "from imblearn.over_sampling import ADASYN\n",
    "from sklearn.tree import DecisionTreeClassifier\n",
    "from sklearn.metrics import accuracy_score\n",
    "from sklearn.model_selection import ( \n",
    "    learning_curve, \n",
    "    StratifiedShuffleSplit \n",
    ")\n",
    "from sklearn.preprocessing import StandardScaler"
   ]
  },
  {
   "cell_type": "markdown",
   "metadata": {},
   "source": [
    "# Home"
   ]
  },
  {
   "cell_type": "code",
   "execution_count": 33,
   "metadata": {},
   "outputs": [],
   "source": [
    "path = [ '..', '..', 'datasets', 'resolutions' ]\n",
    "\n",
    "df_train = pd.read_csv( os.path.join( *path, 'ds-home-10sec-train.csv' ), index_col = 'date', parse_dates = [ 'date' ] )\n",
    "\n",
    "x_train = df_train[ df_train.columns[ :-1 ] ]\n",
    "y_train = df_train.occ"
   ]
  },
  {
   "cell_type": "code",
   "execution_count": 34,
   "metadata": {},
   "outputs": [],
   "source": [
    "scaler = StandardScaler()\n",
    "scaler.fit( x_train )\n",
    "\n",
    "x_train = scaler.transform( x_train )\n",
    "x_test = scaler.transform( x_test )"
   ]
  },
  {
   "cell_type": "code",
   "execution_count": 35,
   "metadata": {},
   "outputs": [],
   "source": [
    "balancer = ADASYN( sampling_strategy = 'not majority', n_neighbors = 1, random_state = 42 )\n",
    "x_train, y_train = balancer.fit_resample( x_train, y_train ) "
   ]
  },
  {
   "cell_type": "code",
   "execution_count": 36,
   "metadata": {},
   "outputs": [],
   "source": [
    "estimator = DecisionTreeClassifier( criterion = 'entropy' )\n",
    "estimator.fit( x_train, y_train )\n",
    "\n",
    "pred_train = estimator.predict( x_train )"
   ]
  },
  {
   "cell_type": "code",
   "execution_count": 37,
   "metadata": {},
   "outputs": [
    {
     "data": {
      "text/plain": [
       "1.0"
      ]
     },
     "execution_count": 37,
     "metadata": {},
     "output_type": "execute_result"
    }
   ],
   "source": [
    "accuracy_score( y_train, pred_train )"
   ]
  },
  {
   "cell_type": "code",
   "execution_count": 40,
   "metadata": {},
   "outputs": [
    {
     "data": {
      "text/plain": [
       "25"
      ]
     },
     "execution_count": 40,
     "metadata": {},
     "output_type": "execute_result"
    }
   ],
   "source": [
    "estimator.get_depth()"
   ]
  },
  {
   "cell_type": "markdown",
   "metadata": {},
   "source": [
    "# Gym"
   ]
  },
  {
   "cell_type": "code",
   "execution_count": 56,
   "metadata": {},
   "outputs": [],
   "source": [
    "df_train = pd.read_csv( os.path.join( *path, 'ds-gym-10sec-train.csv' ), index_col = 'date', parse_dates = [ 'date' ] )\n",
    "\n",
    "x_train = df_train[ df_train.columns[ :-1 ] ]\n",
    "y_train = df_train.occ"
   ]
  },
  {
   "cell_type": "code",
   "execution_count": 57,
   "metadata": {},
   "outputs": [],
   "source": [
    "scaler = StandardScaler()\n",
    "scaler.fit( x_train )\n",
    "\n",
    "x_train = scaler.transform( x_train )\n",
    "x_test = scaler.transform( x_test )"
   ]
  },
  {
   "cell_type": "code",
   "execution_count": 64,
   "metadata": {},
   "outputs": [],
   "source": [
    "balancer = ADASYN( sampling_strategy = 'not majority', n_neighbors = 9, random_state = 42 )\n",
    "x_train, y_train = balancer.fit_resample( x_train, y_train ) "
   ]
  },
  {
   "cell_type": "code",
   "execution_count": 65,
   "metadata": {},
   "outputs": [],
   "source": [
    "estimator = DecisionTreeClassifier( criterion = 'entropy' )\n",
    "estimator.fit( x_train, y_train )\n",
    "\n",
    "pred_train = estimator.predict( x_train )"
   ]
  },
  {
   "cell_type": "code",
   "execution_count": 66,
   "metadata": {},
   "outputs": [
    {
     "data": {
      "text/plain": [
       "1.0"
      ]
     },
     "execution_count": 66,
     "metadata": {},
     "output_type": "execute_result"
    }
   ],
   "source": [
    "accuracy_score( y_train, pred_train )"
   ]
  },
  {
   "cell_type": "code",
   "execution_count": 67,
   "metadata": {},
   "outputs": [
    {
     "data": {
      "text/plain": [
       "6"
      ]
     },
     "execution_count": 67,
     "metadata": {},
     "output_type": "execute_result"
    }
   ],
   "source": [
    "estimator.get_depth()"
   ]
  },
  {
   "cell_type": "code",
   "execution_count": null,
   "metadata": {},
   "outputs": [],
   "source": []
  }
 ],
 "metadata": {
  "kernelspec": {
   "display_name": "Python 3",
   "language": "python",
   "name": "python3"
  },
  "language_info": {
   "codemirror_mode": {
    "name": "ipython",
    "version": 3
   },
   "file_extension": ".py",
   "mimetype": "text/x-python",
   "name": "python",
   "nbconvert_exporter": "python",
   "pygments_lexer": "ipython3",
   "version": "3.7.6"
  }
 },
 "nbformat": 4,
 "nbformat_minor": 4
}
