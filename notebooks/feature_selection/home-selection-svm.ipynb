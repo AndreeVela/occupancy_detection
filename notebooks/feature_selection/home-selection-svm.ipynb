{
 "cells": [
  {
   "cell_type": "code",
   "execution_count": null,
   "metadata": {
    "colab": {
     "base_uri": "https://localhost:8080/",
     "height": 124
    },
    "colab_type": "code",
    "executionInfo": {
     "elapsed": 20045,
     "status": "ok",
     "timestamp": 1596523654133,
     "user": {
      "displayName": "Irving Andreé Vela Miam",
      "photoUrl": "https://lh3.googleusercontent.com/a-/AOh14GhAjgyoWO54L35SwsMM0VH1GJ5GMxa_FXEbR9fK=s64",
      "userId": "03152376786038210194"
     },
     "user_tz": 300
    },
    "id": "9eTOCulLOVDH",
    "outputId": "e8a448c8-1e80-4b36-80cc-0fea37337bb0"
   },
   "outputs": [],
   "source": [
    "# from google.colab import drive\n",
    "# drive.mount('/content/drive')"
   ]
  },
  {
   "cell_type": "code",
   "execution_count": 3,
   "metadata": {
    "colab": {
     "base_uri": "https://localhost:8080/",
     "height": 72
    },
    "colab_type": "code",
    "executionInfo": {
     "elapsed": 2125,
     "status": "ok",
     "timestamp": 1596523683204,
     "user": {
      "displayName": "Irving Andreé Vela Miam",
      "photoUrl": "https://lh3.googleusercontent.com/a-/AOh14GhAjgyoWO54L35SwsMM0VH1GJ5GMxa_FXEbR9fK=s64",
      "userId": "03152376786038210194"
     },
     "user_tz": 300
    },
    "id": "9Ib5kZ7DmxUA",
    "outputId": "3cd9bde9-1c24-41ce-e613-8a002b3f916c"
   },
   "outputs": [],
   "source": [
    "import pandas as pd\n",
    "import numpy as np\n",
    "import matplotlib.pyplot as plt \n",
    "import seaborn as sns\n",
    "import enum\n",
    "import os\n",
    "\n",
    "import sys\n",
    "# sys.path.append( '/content/drive/My Drive/thesis-workspace' ) # drive version\n",
    "sys.path.append( '../../src/' ) # local version\n",
    "\n",
    "from ml.preprocessing import *"
   ]
  },
  {
   "cell_type": "markdown",
   "metadata": {
    "colab_type": "text",
    "id": "nadr2T9VmxUJ"
   },
   "source": [
    "# Classification"
   ]
  },
  {
   "cell_type": "markdown",
   "metadata": {
    "colab_type": "text",
    "id": "Zc6ISKftmxUL"
   },
   "source": [
    "## Loading Datasets"
   ]
  },
  {
   "cell_type": "code",
   "execution_count": 5,
   "metadata": {
    "colab": {
     "base_uri": "https://localhost:8080/",
     "height": 52
    },
    "colab_type": "code",
    "executionInfo": {
     "elapsed": 1382,
     "status": "ok",
     "timestamp": 1596523688692,
     "user": {
      "displayName": "Irving Andreé Vela Miam",
      "photoUrl": "https://lh3.googleusercontent.com/a-/AOh14GhAjgyoWO54L35SwsMM0VH1GJ5GMxa_FXEbR9fK=s64",
      "userId": "03152376786038210194"
     },
     "user_tz": 300
    },
    "id": "kpkQ5qsqmxUP",
    "outputId": "87fcb32f-049e-43b5-937a-fd26cebd7e78"
   },
   "outputs": [],
   "source": [
    "class DF( enum.Enum ):\n",
    "    _FULL = 1\n",
    "    _REDUCED_RFE = 2\n",
    "    _REDUCED_KBEST = 3\n",
    "    _MIN = 4\n",
    "\n",
    "# path = [ '.', 'drive', 'My Drive', 'thesis-workspace', 'datasets' ]\n",
    "path = [ '..', '..', 'datasets', 'feature_selection' ]\n",
    "\n",
    "df = {}\n",
    "df[ DF._FULL ] = pd.read_csv( os.path.join( *path, 'ds-home-fs-full.csv' ) , index_col = 'date', parse_dates = [ 'date' ] )\n",
    "df[ DF._REDUCED_RFE ] = pd.read_csv( os.path.join( *path, 'ds-home-fs-rfe.csv' ), index_col = 'date', parse_dates = [ 'date' ] )\n",
    "df[ DF._REDUCED_KBEST ] = pd.read_csv( os.path.join( *path, 'ds-home-fs-kbest.csv' ), index_col = 'date', parse_dates = [ 'date' ] )\n",
    "df[ DF._MIN ] = pd.read_csv( os.path.join( *path, 'ds-home-fs-min.csv' ), index_col = 'date', parse_dates = [ 'date' ] )"
   ]
  },
  {
   "cell_type": "markdown",
   "metadata": {
    "colab_type": "text",
    "id": "qowQEuS6mxVl"
   },
   "source": [
    "## Data splitting, standarization and balancing"
   ]
  },
  {
   "cell_type": "code",
   "execution_count": 6,
   "metadata": {
    "colab": {
     "base_uri": "https://localhost:8080/",
     "height": 662
    },
    "colab_type": "code",
    "executionInfo": {
     "elapsed": 16548,
     "status": "ok",
     "timestamp": 1596523776030,
     "user": {
      "displayName": "Irving Andreé Vela Miam",
      "photoUrl": "https://lh3.googleusercontent.com/a-/AOh14GhAjgyoWO54L35SwsMM0VH1GJ5GMxa_FXEbR9fK=s64",
      "userId": "03152376786038210194"
     },
     "user_tz": 300
    },
    "id": "XETcqb7CmxVm",
    "outputId": "490960b3-7557-4983-961e-9d3699d0aacf"
   },
   "outputs": [
    {
     "name": "stdout",
     "output_type": "stream",
     "text": [
      "Before balancing: DF._FULL Counter({'L': 16301, 'E': 4128, 'M': 2832, 'H': 531})\n",
      "After balancing: DF._FULL Counter({'E': 16572, 'M': 16402, 'H': 16391, 'L': 16301})\n",
      "\n",
      "Before balancing: DF._REDUCED_RFE Counter({'L': 16301, 'E': 4128, 'M': 2832, 'H': 531})\n",
      "After balancing: DF._REDUCED_RFE Counter({'M': 16326, 'L': 16301, 'E': 16288, 'H': 16281})\n",
      "\n",
      "Before balancing: DF._REDUCED_KBEST Counter({'L': 16301, 'E': 4128, 'M': 2832, 'H': 531})\n",
      "After balancing: DF._REDUCED_KBEST Counter({'M': 16362, 'L': 16301, 'H': 16281, 'E': 16256})\n",
      "\n",
      "Before balancing: DF._MIN Counter({'L': 16325, 'E': 4098, 'M': 2830, 'H': 547})\n",
      "After balancing: DF._MIN Counter({'E': 16353, 'M': 16330, 'H': 16329, 'L': 16325})\n",
      "\n"
     ]
    }
   ],
   "source": [
    "from imblearn.over_sampling import ADASYN\n",
    "from collections import Counter\n",
    "\n",
    "\n",
    "# Number of neighbors to use for balancing each dataset\n",
    "\n",
    "neighbors = { \n",
    "    DF._FULL: 1,\n",
    "    DF._REDUCED_RFE: 1,\n",
    "    DF._REDUCED_KBEST: 1,\n",
    "    DF._MIN: 1\n",
    "}\n",
    "\n",
    "for k, d in df.items() :  \n",
    "    temp = list( split_data( d, test_size = 0.20 ) )\n",
    "    temp[ X_TRAIN ], temp[ X_TEST ] = standardize( temp[ X_TRAIN ], temp[ X_TEST ] )\n",
    "    \n",
    "    print( 'Before balancing:', k, Counter( temp[ Y_TRAIN ] ) )\n",
    "    temp[ X_TRAIN ], temp[ Y_TRAIN ] = balance_df( \n",
    "        temp[ X_TRAIN ], \n",
    "        temp[ Y_TRAIN ], \n",
    "        neighbors[ k ] )\n",
    "    print( 'After balancing:', k, Counter( temp[ Y_TRAIN ] ) )\n",
    "    print()\n",
    "    \n",
    "    df[ k ] = temp"
   ]
  },
  {
   "cell_type": "markdown",
   "metadata": {
    "colab_type": "text",
    "id": "1yjnaaS-mxVq"
   },
   "source": [
    "## Training"
   ]
  },
  {
   "cell_type": "code",
   "execution_count": 7,
   "metadata": {
    "colab": {},
    "colab_type": "code",
    "executionInfo": {
     "elapsed": 9839,
     "status": "ok",
     "timestamp": 1596523776657,
     "user": {
      "displayName": "Irving Andreé Vela Miam",
      "photoUrl": "https://lh3.googleusercontent.com/a-/AOh14GhAjgyoWO54L35SwsMM0VH1GJ5GMxa_FXEbR9fK=s64",
      "userId": "03152376786038210194"
     },
     "user_tz": 300
    },
    "id": "3IXaUR1kmxVq"
   },
   "outputs": [],
   "source": [
    "from sklearn.pipeline import Pipeline, make_pipeline\n",
    "from sklearn.svm import SVC\n",
    "from ml.classification import *\n",
    "\n",
    "params_svc = [ { \n",
    "      'C': [ 1, 10, 100 ], # regularization parameter\n",
    "      'kernel': [ 'rbf' ], # removed linear kernels\n",
    "      'gamma': [ 1, 10 ] # how curved the separation is\n",
    "  } ]  \n",
    "grids = { DF._FULL: None, DF._REDUCED_RFE: None, DF._REDUCED_KBEST: None, DF._MIN: None }\n",
    "\n",
    "labels = [ 'E', 'H', 'L', 'M' ]\n",
    "\n",
    "# exclude = [ DF._REDUCED_RFE, DF._REDUCED_KBEST, DF._MIN ]\n",
    "exclude = [  ]"
   ]
  },
  {
   "cell_type": "markdown",
   "metadata": {
    "colab_type": "text",
    "id": "jnXZ4e5tmxVv"
   },
   "source": [
    "### Regular"
   ]
  },
  {
   "cell_type": "code",
   "execution_count": 8,
   "metadata": {
    "colab": {
     "base_uri": "https://localhost:8080/",
     "height": 489
    },
    "colab_type": "code",
    "executionInfo": {
     "elapsed": 7601986,
     "status": "ok",
     "timestamp": 1596531383319,
     "user": {
      "displayName": "Irving Andreé Vela Miam",
      "photoUrl": "https://lh3.googleusercontent.com/a-/AOh14GhAjgyoWO54L35SwsMM0VH1GJ5GMxa_FXEbR9fK=s64",
      "userId": "03152376786038210194"
     },
     "user_tz": 300
    },
    "id": "2NyYgTr9mxVw",
    "outputId": "2ed6d9af-b5aa-45e7-b126-82701315acde"
   },
   "outputs": [
    {
     "name": "stdout",
     "output_type": "stream",
     "text": [
      "Dataset  DF._FULL 4\n",
      "Best params:  {'C': 10, 'gamma': 1, 'kernel': 'rbf'}\n",
      "Training Accuracy 0.9632153589639565\n",
      "Test Accuracy:  0.8308959488989747\n",
      "Test ROCauc (OvR): 0.928112357538193\n",
      "\n",
      "Detailed Classification Report\n",
      "              precision    recall  f1-score   support\n",
      "\n",
      "           E       0.77      0.80      0.78       998\n",
      "           H       0.73      0.60      0.66       156\n",
      "           L       0.88      0.90      0.89      4068\n",
      "           M       0.64      0.56      0.60       727\n",
      "\n",
      "    accuracy                           0.83      5949\n",
      "   macro avg       0.75      0.71      0.73      5949\n",
      "weighted avg       0.83      0.83      0.83      5949\n",
      "\n",
      "\n",
      "Dataset  DF._REDUCED_RFE 4\n",
      "Best params:  {'C': 100, 'gamma': 10, 'kernel': 'rbf'}\n",
      "Training Accuracy 0.9836608064551035\n",
      "Test Accuracy:  0.9290637081862498\n",
      "Test ROCauc (OvR): 0.9804699452841266\n",
      "\n",
      "Detailed Classification Report\n",
      "              precision    recall  f1-score   support\n",
      "\n",
      "           E       0.93      0.92      0.93       998\n",
      "           H       0.84      0.78      0.81       156\n",
      "           L       0.95      0.96      0.95      4068\n",
      "           M       0.84      0.79      0.82       727\n",
      "\n",
      "    accuracy                           0.93      5949\n",
      "   macro avg       0.89      0.86      0.88      5949\n",
      "weighted avg       0.93      0.93      0.93      5949\n",
      "\n",
      "\n",
      "Dataset  DF._REDUCED_KBEST 4\n",
      "Best params:  {'C': 100, 'gamma': 10, 'kernel': 'rbf'}\n",
      "Training Accuracy 0.9805981595092025\n",
      "Test Accuracy:  0.9199865523617414\n",
      "Test ROCauc (OvR): 0.975763050659346\n",
      "\n",
      "Detailed Classification Report\n",
      "              precision    recall  f1-score   support\n",
      "\n",
      "           E       0.91      0.90      0.90       998\n",
      "           H       0.87      0.79      0.83       156\n",
      "           L       0.93      0.96      0.95      4068\n",
      "           M       0.85      0.76      0.80       727\n",
      "\n",
      "    accuracy                           0.92      5949\n",
      "   macro avg       0.89      0.85      0.87      5949\n",
      "weighted avg       0.92      0.92      0.92      5949\n",
      "\n",
      "\n",
      "Dataset  DF._MIN 4\n",
      "Best params:  {'C': 100, 'gamma': 10, 'kernel': 'rbf'}\n",
      "Training Accuracy 0.9573136188056146\n",
      "Test Accuracy:  0.9716014115274744\n",
      "Test ROCauc (OvR): 0.9978945711303536\n",
      "\n",
      "Detailed Classification Report\n",
      "              precision    recall  f1-score   support\n",
      "\n",
      "           E       0.93      1.00      0.96      1029\n",
      "           H       0.89      0.96      0.93       141\n",
      "           L       1.00      0.97      0.98      4050\n",
      "           M       0.92      0.97      0.94       731\n",
      "\n",
      "    accuracy                           0.97      5951\n",
      "   macro avg       0.93      0.97      0.95      5951\n",
      "weighted avg       0.97      0.97      0.97      5951\n",
      "\n",
      "\n",
      "CPU times: user 20min 34s, sys: 17.7 s, total: 20min 52s\n",
      "Wall time: 15h 58min 2s\n"
     ]
    },
    {
     "data": {
      "image/png": "[encoded data removed]",
      "text/plain": [
       "<Figure size 432x288 with 2 Axes>"
      ]
     },
     "metadata": {
      "needs_background": "light"
     },
     "output_type": "display_data"
    },
    {
     "data": {
      "image/png": "[encoded data removed]",
      "text/plain": [
       "<Figure size 432x288 with 2 Axes>"
      ]
     },
     "metadata": {
      "needs_background": "light"
     },
     "output_type": "display_data"
    },
    {
     "data": {
      "image/png": "[encoded data removed]",
      "text/plain": [
       "<Figure size 432x288 with 2 Axes>"
      ]
     },
     "metadata": {
      "needs_background": "light"
     },
     "output_type": "display_data"
    },
    {
     "data": {
      "image/png": "[encoded data removed]",
      "text/plain": [
       "<Figure size 432x288 with 2 Axes>"
      ]
     },
     "metadata": {
      "needs_background": "light"
     },
     "output_type": "display_data"
    }
   ],
   "source": [
    "%%time\n",
    "for k, d in df.items():\n",
    "    if( k not in exclude ):\n",
    "        print( 'Dataset ', k, len( d ) )\n",
    "        grids[ k ] = train_and_test( \n",
    "                SVC( probability = True ), params_svc, \n",
    "                d[ X_TRAIN ], d[ Y_TRAIN ], \n",
    "                d[ X_TEST ], d[ Y_TEST ], \n",
    "                plot_cmatrix = True, labels = labels )"
   ]
  },
  {
   "cell_type": "markdown",
   "metadata": {},
   "source": [
    "Con los datasets sin PCA, SVM y DT no mostraron diferencia en el accuracy entre el dataset con features extra y el dataset reducido. Por su parte KNN si hubo un incremento utilizando el dataset con features reducidos. Para el escenario donde se aplicó PCA antes de realizar la clasificación, nuevamente SVM no se mostró afectado, sin embargo DT y KNN si mostraron una diferencia positiva en el accuracy usando el dataset con features reducidos. El peor caso fue con KNN, donde se obtuvo una diferencia de 5 puntos porcentuales entre el dataset reducido (0.99) y el el dataset extendido (0.95). En general concluimos que el dataset extendido presenta signos de overfitting ya que en general los features agregados no tuvieron impacto o impactaron negativamente en el performance. "
   ]
  },
  {
   "cell_type": "markdown",
   "metadata": {
    "colab_type": "text",
    "id": "QtOukyTYmxV6"
   },
   "source": [
    "# Evaluation"
   ]
  },
  {
   "cell_type": "code",
   "execution_count": null,
   "metadata": {
    "colab": {},
    "colab_type": "code",
    "executionInfo": {
     "elapsed": 11555048,
     "status": "ok",
     "timestamp": 1596535343975,
     "user": {
      "displayName": "Irving Andreé Vela Miam",
      "photoUrl": "https://lh3.googleusercontent.com/a-/AOh14GhAjgyoWO54L35SwsMM0VH1GJ5GMxa_FXEbR9fK=s64",
      "userId": "03152376786038210194"
     },
     "user_tz": 300
    },
    "id": "A2jgIQn4mxV7"
   },
   "outputs": [],
   "source": [
    "from ml.evaluation import *"
   ]
  },
  {
   "cell_type": "markdown",
   "metadata": {
    "colab_type": "text",
    "id": "2t4Ntz21mxV_"
   },
   "source": [
    "## Learning Curves"
   ]
  },
  {
   "cell_type": "code",
   "execution_count": null,
   "metadata": {
    "colab": {
     "base_uri": "https://localhost:8080/",
     "height": 806
    },
    "colab_type": "code",
    "executionInfo": {
     "elapsed": 18081764,
     "status": "ok",
     "timestamp": 1596541871527,
     "user": {
      "displayName": "Irving Andreé Vela Miam",
      "photoUrl": "https://lh3.googleusercontent.com/a-/AOh14GhAjgyoWO54L35SwsMM0VH1GJ5GMxa_FXEbR9fK=s64",
      "userId": "03152376786038210194"
     },
     "user_tz": 300
    },
    "id": "oUPCSdW_mxV_",
    "outputId": "ffb69a6e-7ab8-4232-fcd1-8003029b4672"
   },
   "outputs": [],
   "source": [
    "%%time\n",
    "temp = [ item for item in df.items() if item[ 0 ] not in exclude ]\n",
    "plot_learning_curves( temp, grids, 'SVC' )"
   ]
  },
  {
   "cell_type": "code",
   "execution_count": null,
   "metadata": {},
   "outputs": [],
   "source": []
  }
 ],
 "metadata": {
  "colab": {
   "collapsed_sections": [],
   "name": "residential-knn.ipynb",
   "provenance": [],
   "toc_visible": true
  },
  "kernelspec": {
   "display_name": "Python 3",
   "language": "python",
   "name": "python3"
  },
  "language_info": {
   "codemirror_mode": {
    "name": "ipython",
    "version": 3
   },
   "file_extension": ".py",
   "mimetype": "text/x-python",
   "name": "python",
   "nbconvert_exporter": "python",
   "pygments_lexer": "ipython3",
   "version": "3.7.6"
  }
 },
 "nbformat": 4,
 "nbformat_minor": 4
}
