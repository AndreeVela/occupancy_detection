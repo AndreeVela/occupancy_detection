{
 "cells": [
  {
   "cell_type": "markdown",
   "metadata": {},
   "source": [
    "# Preparation"
   ]
  },
  {
   "cell_type": "code",
   "execution_count": 3,
   "metadata": {},
   "outputs": [],
   "source": [
    "import pandas as pd\n",
    "\n",
    "import sys\n",
    "sys.path.append( '../../src/' )\n",
    "\n",
    "from ml.preprocessing import *"
   ]
  },
  {
   "cell_type": "code",
   "execution_count": null,
   "metadata": {},
   "outputs": [],
   "source": [
    "%%time\n",
    "sheets = [ 'Friday 15 May', 'Sunday 24 May', 'Monday 25 May', 'Tuesday 26 May', \n",
    "          'Wednesday 27 May', 'Thursday 28 May', 'Friday 29 May', 'Sunday May 31', \n",
    "          'Monday June 1', 'Thursday June 4', 'Friday June 5' ]\n",
    "\n",
    "df = read_sheets( '../../datasets/binary files/dataset-residential.xlsx', sheets )"
   ]
  },
  {
   "cell_type": "markdown",
   "metadata": {},
   "source": [
    "## Removing null values"
   ]
  },
  {
   "cell_type": "code",
   "execution_count": null,
   "metadata": {},
   "outputs": [],
   "source": [
    "print( 'Legnth: ', len( df ) )\n",
    "print( 'Null values:' )\n",
    "len( df ) - df.count()"
   ]
  },
  {
   "cell_type": "code",
   "execution_count": null,
   "metadata": {},
   "outputs": [],
   "source": [
    "df = df.dropna( axis = 0, subset = [ 'occ', 'hum' ], thresh = 2 )"
   ]
  },
  {
   "cell_type": "code",
   "execution_count": null,
   "metadata": {},
   "outputs": [],
   "source": [
    "print( 'Legnth: ', len( df ) )\n",
    "print( 'Null values:' )\n",
    "len( df ) - df.count()"
   ]
  },
  {
   "cell_type": "code",
   "execution_count": null,
   "metadata": {},
   "outputs": [],
   "source": [
    "df.to_csv( '../../datasets/ds-residential-1sec.csv' )"
   ]
  },
  {
   "cell_type": "markdown",
   "metadata": {},
   "source": [
    "## Genereting other resolutions"
   ]
  },
  {
   "cell_type": "code",
   "execution_count": 4,
   "metadata": {},
   "outputs": [],
   "source": [
    "from sklearn.model_selection import train_test_split \n",
    "import os\n",
    "\n",
    "path = [ '..', '..', 'datasets' ]\n",
    "out_path = [ '..', '..', 'datasets', 'resolutions' ]\n",
    "\n",
    "def split_and_save( df, out_path, resolution ):\n",
    "    x_train, x_test, y_train , y_test = train_test_split( df[ df.columns[ :-1 ] ], df.occ, test_size = 0.20, random_state = 0 )\n",
    "    x_train[ 'occ' ] = y_train\n",
    "    x_test[ 'occ' ] = y_test\n",
    "    x_train.to_csv( os.path.join( *out_path, 'ds-%s-train.csv' % ( resolution ) ) )\n",
    "    x_test.to_csv( os.path.join( *out_path, 'ds-%s-test.csv'% ( resolution ) ) )"
   ]
  },
  {
   "cell_type": "code",
   "execution_count": 5,
   "metadata": {},
   "outputs": [],
   "source": [
    "df = pd.read_csv( os.path.join( *path, 'ds-residential-1sec.csv' ), index_col = 'date', parse_dates = [ 'date' ] ).drop( 'ven', axis = 1 )"
   ]
  },
  {
   "cell_type": "markdown",
   "metadata": {},
   "source": [
    "### 10 (sampled and averaged)"
   ]
  },
  {
   "cell_type": "code",
   "execution_count": 6,
   "metadata": {},
   "outputs": [],
   "source": [
    "split_and_save( resample_df( df, '10S' ), out_path, 'home-10sec' )\n",
    "split_and_save( resample_df_avg( df, '10S' ).round( 2 ), out_path, 'home-10sec-avg' )"
   ]
  },
  {
   "cell_type": "markdown",
   "metadata": {},
   "source": [
    "### 30 seconds "
   ]
  },
  {
   "cell_type": "code",
   "execution_count": 7,
   "metadata": {},
   "outputs": [],
   "source": [
    "split_and_save( resample_df( df, '30S' ), out_path, 'home-30sec' )\n",
    "split_and_save( resample_df_avg( df, '30S' ).round( 2 ), out_path, 'home-30sec-avg' )"
   ]
  },
  {
   "cell_type": "markdown",
   "metadata": {},
   "source": [
    "### 1 minute (sampled and averaged)"
   ]
  },
  {
   "cell_type": "code",
   "execution_count": 8,
   "metadata": {},
   "outputs": [],
   "source": [
    "split_and_save( resample_df( df, '1min' ), out_path, 'home-1min' )\n",
    "split_and_save( resample_df_avg( df, '1min' ).round( 2 ), out_path, 'home-1min-avg' )"
   ]
  },
  {
   "cell_type": "markdown",
   "metadata": {},
   "source": [
    "### 5 minutes (sampled and averaged)"
   ]
  },
  {
   "cell_type": "code",
   "execution_count": 9,
   "metadata": {},
   "outputs": [],
   "source": [
    "split_and_save( resample_df( df, '5min' ), out_path, 'home-5min' )\n",
    "split_and_save( resample_df_avg( df, '5min' ).round( 2 ), out_path, 'home-5min-avg' )"
   ]
  },
  {
   "cell_type": "markdown",
   "metadata": {},
   "source": [
    "## Visualization"
   ]
  },
  {
   "cell_type": "code",
   "execution_count": null,
   "metadata": {},
   "outputs": [],
   "source": [
    "from ml.visualization import *"
   ]
  },
  {
   "cell_type": "markdown",
   "metadata": {},
   "source": [
    "### Complete dataset"
   ]
  },
  {
   "cell_type": "code",
   "execution_count": null,
   "metadata": {},
   "outputs": [],
   "source": [
    "%%time\n",
    "plot_env_vars( df.index.astype( str ), df[ 'tem' ], df[ 'hum' ], df[ 'occ' ] )\n",
    "\n",
    "# plot_single( df.index.astype( str ), df[ 'tem' ], 'Temperature' )\n",
    "# plot_single( df.index.astype( str ), df[ 'hum' ], 'Humidity' )\n",
    "# plot_single( df.index.astype( str ), df[ 'pre' ], 'Pressure' )"
   ]
  },
  {
   "cell_type": "markdown",
   "metadata": {},
   "source": [
    "### By day"
   ]
  },
  {
   "cell_type": "code",
   "execution_count": null,
   "metadata": {},
   "outputs": [],
   "source": [
    "df_temp = df.resample( 'D' ).agg( { 'pre': 'mean', 'hum': 'mean', 'tem': 'mean', 'ven': [ 'mean', 'count' ] } ).dropna( how = 'any' )\n",
    "df_temp"
   ]
  },
  {
   "cell_type": "code",
   "execution_count": null,
   "metadata": {},
   "outputs": [],
   "source": [
    "from collections import Counter\n",
    "\n",
    "df_temp = df.groupby( df.index.floor( 'D' ) ) \n",
    "for i, g in df_temp:\n",
    "    plot_env_vars( \n",
    "        g.index, \n",
    "        g[ 'tem' ], \n",
    "        g[ 'hum' ], \n",
    "        g[ 'occ' ],\n",
    "        \"Temperature and Humidity (\" + g.index[ 0 ].strftime( '%Y-%b-%d' ) + \")\" )\n",
    "    \n",
    "    print( 'Total:', len( g ) )\n",
    "    print( Counter( g.occ ) )"
   ]
  },
  {
   "cell_type": "code",
   "execution_count": null,
   "metadata": {},
   "outputs": [],
   "source": []
  }
 ],
 "metadata": {
  "kernelspec": {
   "display_name": "Python 3",
   "language": "python",
   "name": "python3"
  },
  "language_info": {
   "codemirror_mode": {
    "name": "ipython",
    "version": 3
   },
   "file_extension": ".py",
   "mimetype": "text/x-python",
   "name": "python",
   "nbconvert_exporter": "python",
   "pygments_lexer": "ipython3",
   "version": "3.7.6"
  }
 },
 "nbformat": 4,
 "nbformat_minor": 4
}
