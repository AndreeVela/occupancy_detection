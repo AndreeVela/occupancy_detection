{
 "cells": [
  {
   "cell_type": "code",
   "execution_count": 1,
   "metadata": {},
   "outputs": [],
   "source": [
    "import pandas as pd\n",
    "import numpy as np\n",
    "import matplotlib.pyplot as plt \n",
    "import seaborn as sns\n",
    "\n",
    "import sys\n",
    "sys.path.append( '../src/' )\n",
    "\n",
    "from ml.preprocessing import *"
   ]
  },
  {
   "cell_type": "markdown",
   "metadata": {},
   "source": [
    "# Data Preprocessing"
   ]
  },
  {
   "cell_type": "markdown",
   "metadata": {},
   "source": [
    "## Reading excel sheets"
   ]
  },
  {
   "cell_type": "code",
   "execution_count": 2,
   "metadata": {},
   "outputs": [
    {
     "name": "stdout",
     "output_type": "stream",
     "text": [
      "CPU times: user 46.1 s, sys: 556 ms, total: 46.7 s\n",
      "Wall time: 47.1 s\n"
     ]
    },
    {
     "data": {
      "text/html": [
       "<div>\n",
       "<style scoped>\n",
       "    .dataframe tbody tr th:only-of-type {\n",
       "        vertical-align: middle;\n",
       "    }\n",
       "\n",
       "    .dataframe tbody tr th {\n",
       "        vertical-align: top;\n",
       "    }\n",
       "\n",
       "    .dataframe thead th {\n",
       "        text-align: right;\n",
       "    }\n",
       "</style>\n",
       "<table border=\"1\" class=\"dataframe\">\n",
       "  <thead>\n",
       "    <tr style=\"text-align: right;\">\n",
       "      <th></th>\n",
       "      <th>pre</th>\n",
       "      <th>alt</th>\n",
       "      <th>hum</th>\n",
       "      <th>tem</th>\n",
       "      <th>ven</th>\n",
       "      <th>occ</th>\n",
       "    </tr>\n",
       "    <tr>\n",
       "      <th>date</th>\n",
       "      <th></th>\n",
       "      <th></th>\n",
       "      <th></th>\n",
       "      <th></th>\n",
       "      <th></th>\n",
       "      <th></th>\n",
       "    </tr>\n",
       "  </thead>\n",
       "  <tbody>\n",
       "    <tr>\n",
       "      <th>2020-05-14 21:08:39</th>\n",
       "      <td>94270.77</td>\n",
       "      <td>604.60</td>\n",
       "      <td>54.49</td>\n",
       "      <td>30.99</td>\n",
       "      <td>1.0</td>\n",
       "      <td>L</td>\n",
       "    </tr>\n",
       "    <tr>\n",
       "      <th>2020-05-14 21:08:40</th>\n",
       "      <td>94268.36</td>\n",
       "      <td>604.81</td>\n",
       "      <td>54.46</td>\n",
       "      <td>30.99</td>\n",
       "      <td>1.0</td>\n",
       "      <td>L</td>\n",
       "    </tr>\n",
       "    <tr>\n",
       "      <th>2020-05-14 21:08:41</th>\n",
       "      <td>94266.11</td>\n",
       "      <td>605.01</td>\n",
       "      <td>54.46</td>\n",
       "      <td>30.99</td>\n",
       "      <td>1.0</td>\n",
       "      <td>L</td>\n",
       "    </tr>\n",
       "    <tr>\n",
       "      <th>2020-05-14 21:08:42</th>\n",
       "      <td>94268.52</td>\n",
       "      <td>604.80</td>\n",
       "      <td>54.49</td>\n",
       "      <td>30.99</td>\n",
       "      <td>1.0</td>\n",
       "      <td>L</td>\n",
       "    </tr>\n",
       "    <tr>\n",
       "      <th>2020-05-14 21:08:43</th>\n",
       "      <td>94269.70</td>\n",
       "      <td>604.69</td>\n",
       "      <td>54.50</td>\n",
       "      <td>30.99</td>\n",
       "      <td>1.0</td>\n",
       "      <td>L</td>\n",
       "    </tr>\n",
       "    <tr>\n",
       "      <th>...</th>\n",
       "      <td>...</td>\n",
       "      <td>...</td>\n",
       "      <td>...</td>\n",
       "      <td>...</td>\n",
       "      <td>...</td>\n",
       "      <td>...</td>\n",
       "    </tr>\n",
       "    <tr>\n",
       "      <th>2020-06-05 10:01:23</th>\n",
       "      <td>94731.69</td>\n",
       "      <td>563.99</td>\n",
       "      <td>61.02</td>\n",
       "      <td>30.35</td>\n",
       "      <td>NaN</td>\n",
       "      <td>NaN</td>\n",
       "    </tr>\n",
       "    <tr>\n",
       "      <th>2020-06-05 10:01:24</th>\n",
       "      <td>94732.08</td>\n",
       "      <td>563.96</td>\n",
       "      <td>61.01</td>\n",
       "      <td>30.35</td>\n",
       "      <td>NaN</td>\n",
       "      <td>NaN</td>\n",
       "    </tr>\n",
       "    <tr>\n",
       "      <th>2020-06-05 10:01:25</th>\n",
       "      <td>94729.84</td>\n",
       "      <td>564.25</td>\n",
       "      <td>61.01</td>\n",
       "      <td>30.35</td>\n",
       "      <td>NaN</td>\n",
       "      <td>NaN</td>\n",
       "    </tr>\n",
       "    <tr>\n",
       "      <th>2020-06-05 10:01:26</th>\n",
       "      <td>94730.28</td>\n",
       "      <td>564.12</td>\n",
       "      <td>60.98</td>\n",
       "      <td>30.35</td>\n",
       "      <td>NaN</td>\n",
       "      <td>NaN</td>\n",
       "    </tr>\n",
       "    <tr>\n",
       "      <th>2020-06-05 10:01:27</th>\n",
       "      <td>94732.30</td>\n",
       "      <td>563.94</td>\n",
       "      <td>60.98</td>\n",
       "      <td>30.35</td>\n",
       "      <td>NaN</td>\n",
       "      <td>NaN</td>\n",
       "    </tr>\n",
       "  </tbody>\n",
       "</table>\n",
       "<p>353712 rows × 6 columns</p>\n",
       "</div>"
      ],
      "text/plain": [
       "                          pre     alt    hum    tem  ven  occ\n",
       "date                                                         \n",
       "2020-05-14 21:08:39  94270.77  604.60  54.49  30.99  1.0    L\n",
       "2020-05-14 21:08:40  94268.36  604.81  54.46  30.99  1.0    L\n",
       "2020-05-14 21:08:41  94266.11  605.01  54.46  30.99  1.0    L\n",
       "2020-05-14 21:08:42  94268.52  604.80  54.49  30.99  1.0    L\n",
       "2020-05-14 21:08:43  94269.70  604.69  54.50  30.99  1.0    L\n",
       "...                       ...     ...    ...    ...  ...  ...\n",
       "2020-06-05 10:01:23  94731.69  563.99  61.02  30.35  NaN  NaN\n",
       "2020-06-05 10:01:24  94732.08  563.96  61.01  30.35  NaN  NaN\n",
       "2020-06-05 10:01:25  94729.84  564.25  61.01  30.35  NaN  NaN\n",
       "2020-06-05 10:01:26  94730.28  564.12  60.98  30.35  NaN  NaN\n",
       "2020-06-05 10:01:27  94732.30  563.94  60.98  30.35  NaN  NaN\n",
       "\n",
       "[353712 rows x 6 columns]"
      ]
     },
     "execution_count": 2,
     "metadata": {},
     "output_type": "execute_result"
    }
   ],
   "source": [
    "%%time\n",
    "sheets = [ 'Friday 15 May', 'Sunday 24 May', 'Monday 25 May', 'Tuesday 26 May', \n",
    "          'Wednesday 27 May', 'Thursday 28 May', 'Friday 29 May', 'Sunday May 31', \n",
    "          'Monday June 1', 'Thursday June 4', 'Friday June 5' ]\n",
    "\n",
    "df = read_sheets( '../datasets/dataset-residential.xlsx', sheets )\n",
    "df"
   ]
  },
  {
   "cell_type": "markdown",
   "metadata": {},
   "source": [
    "## Removing null values"
   ]
  },
  {
   "cell_type": "code",
   "execution_count": 3,
   "metadata": {},
   "outputs": [
    {
     "name": "stdout",
     "output_type": "stream",
     "text": [
      "Legnth:  353712\n",
      "Null values:\n"
     ]
    },
    {
     "data": {
      "text/plain": [
       "pre        0\n",
       "alt        0\n",
       "hum       97\n",
       "tem        0\n",
       "ven    57819\n",
       "occ    57819\n",
       "dtype: int64"
      ]
     },
     "execution_count": 3,
     "metadata": {},
     "output_type": "execute_result"
    }
   ],
   "source": [
    "print( 'Legnth: ', len( df ) )\n",
    "print( 'Null values:' )\n",
    "len( df ) - df.count()"
   ]
  },
  {
   "cell_type": "code",
   "execution_count": 4,
   "metadata": {},
   "outputs": [],
   "source": [
    "df = df.dropna( axis = 0, subset = [ 'occ', 'hum' ], thresh = 2 )"
   ]
  },
  {
   "cell_type": "code",
   "execution_count": 5,
   "metadata": {},
   "outputs": [
    {
     "name": "stdout",
     "output_type": "stream",
     "text": [
      "Legnth:  295823\n",
      "Null values:\n"
     ]
    },
    {
     "data": {
      "text/plain": [
       "pre    0\n",
       "alt    0\n",
       "hum    0\n",
       "tem    0\n",
       "ven    0\n",
       "occ    0\n",
       "dtype: int64"
      ]
     },
     "execution_count": 5,
     "metadata": {},
     "output_type": "execute_result"
    }
   ],
   "source": [
    "print( 'Legnth: ', len( df ) )\n",
    "print( 'Null values:' )\n",
    "len( df ) - df.count()"
   ]
  },
  {
   "cell_type": "markdown",
   "metadata": {},
   "source": [
    "## Visualization"
   ]
  },
  {
   "cell_type": "code",
   "execution_count": 6,
   "metadata": {},
   "outputs": [],
   "source": [
    "# plot_env_vars( df.index.astype( str ), df[ 'tem' ], df[ 'hum' ], df[ 'occ' ] )\n",
    "# plot_single( df.index.astype( str ), df[ 'pre' ], 'Pressure' )"
   ]
  },
  {
   "cell_type": "markdown",
   "metadata": {},
   "source": [
    "# Features Selection"
   ]
  },
  {
   "cell_type": "code",
   "execution_count": 7,
   "metadata": {},
   "outputs": [],
   "source": [
    "from ml.feature_selection import *\n",
    "from ml.generation import *"
   ]
  },
  {
   "cell_type": "markdown",
   "metadata": {},
   "source": [
    "## Recursive Feature Elimination "
   ]
  },
  {
   "cell_type": "code",
   "execution_count": 8,
   "metadata": {},
   "outputs": [
    {
     "data": {
      "text/html": [
       "<div>\n",
       "<style scoped>\n",
       "    .dataframe tbody tr th:only-of-type {\n",
       "        vertical-align: middle;\n",
       "    }\n",
       "\n",
       "    .dataframe tbody tr th {\n",
       "        vertical-align: top;\n",
       "    }\n",
       "\n",
       "    .dataframe thead th {\n",
       "        text-align: right;\n",
       "    }\n",
       "</style>\n",
       "<table border=\"1\" class=\"dataframe\">\n",
       "  <thead>\n",
       "    <tr style=\"text-align: right;\">\n",
       "      <th></th>\n",
       "      <th>rank</th>\n",
       "      <th>selected</th>\n",
       "    </tr>\n",
       "  </thead>\n",
       "  <tbody>\n",
       "    <tr>\n",
       "      <th>hum</th>\n",
       "      <td>1</td>\n",
       "      <td>1</td>\n",
       "    </tr>\n",
       "    <tr>\n",
       "      <th>pre</th>\n",
       "      <td>2</td>\n",
       "      <td>0</td>\n",
       "    </tr>\n",
       "    <tr>\n",
       "      <th>tem</th>\n",
       "      <td>3</td>\n",
       "      <td>0</td>\n",
       "    </tr>\n",
       "    <tr>\n",
       "      <th>ven</th>\n",
       "      <td>4</td>\n",
       "      <td>0</td>\n",
       "    </tr>\n",
       "    <tr>\n",
       "      <th>alt</th>\n",
       "      <td>5</td>\n",
       "      <td>0</td>\n",
       "    </tr>\n",
       "  </tbody>\n",
       "</table>\n",
       "</div>"
      ],
      "text/plain": [
       "     rank  selected\n",
       "hum     1         1\n",
       "pre     2         0\n",
       "tem     3         0\n",
       "ven     4         0\n",
       "alt     5         0"
      ]
     },
     "execution_count": 8,
     "metadata": {},
     "output_type": "execute_result"
    }
   ],
   "source": [
    "x_train, x_test, y_train, y_test = split_data( df, test_size = 0.20 )\n",
    "x_train, x_test = standardize( x_train, x_test )\n",
    "selected_rfe = select_k_rfe( x_train, y_train, df.columns[ : -1 ], 1 )\n",
    "selected_rfe"
   ]
  },
  {
   "cell_type": "markdown",
   "metadata": {},
   "source": [
    "## 3.2 Selecting K-best"
   ]
  },
  {
   "cell_type": "code",
   "execution_count": 9,
   "metadata": {},
   "outputs": [
    {
     "data": {
      "text/html": [
       "<div>\n",
       "<style scoped>\n",
       "    .dataframe tbody tr th:only-of-type {\n",
       "        vertical-align: middle;\n",
       "    }\n",
       "\n",
       "    .dataframe tbody tr th {\n",
       "        vertical-align: top;\n",
       "    }\n",
       "\n",
       "    .dataframe thead th {\n",
       "        text-align: right;\n",
       "    }\n",
       "</style>\n",
       "<table border=\"1\" class=\"dataframe\">\n",
       "  <thead>\n",
       "    <tr style=\"text-align: right;\">\n",
       "      <th></th>\n",
       "      <th>score</th>\n",
       "      <th>p-value</th>\n",
       "    </tr>\n",
       "  </thead>\n",
       "  <tbody>\n",
       "    <tr>\n",
       "      <th>tem</th>\n",
       "      <td>42,166.13</td>\n",
       "      <td>0.00</td>\n",
       "    </tr>\n",
       "    <tr>\n",
       "      <th>ven</th>\n",
       "      <td>41,196.57</td>\n",
       "      <td>0.00</td>\n",
       "    </tr>\n",
       "    <tr>\n",
       "      <th>hum</th>\n",
       "      <td>22,034.33</td>\n",
       "      <td>0.00</td>\n",
       "    </tr>\n",
       "    <tr>\n",
       "      <th>alt</th>\n",
       "      <td>11,741.74</td>\n",
       "      <td>0.00</td>\n",
       "    </tr>\n",
       "    <tr>\n",
       "      <th>pre</th>\n",
       "      <td>11,732.62</td>\n",
       "      <td>0.00</td>\n",
       "    </tr>\n",
       "  </tbody>\n",
       "</table>\n",
       "</div>"
      ],
      "text/plain": [
       "        score  p-value\n",
       "tem 42,166.13     0.00\n",
       "ven 41,196.57     0.00\n",
       "hum 22,034.33     0.00\n",
       "alt 11,741.74     0.00\n",
       "pre 11,732.62     0.00"
      ]
     },
     "execution_count": 9,
     "metadata": {},
     "output_type": "execute_result"
    }
   ],
   "source": [
    "pd.options.display.float_format = '{:,.2f}'.format\n",
    "np.set_printoptions(precision = 2)\n",
    "selected_kbest = select_k_best( x_train, y_train, df.columns[ : -1 ], 3 )\n",
    "selected_kbest"
   ]
  },
  {
   "cell_type": "markdown",
   "metadata": {},
   "source": [
    "## 3.3 Feature Correlation"
   ]
  },
  {
   "cell_type": "code",
   "execution_count": 10,
   "metadata": {},
   "outputs": [
    {
     "data": {
      "text/plain": [
       "<matplotlib.axes._subplots.AxesSubplot at 0x7f9c85014510>"
      ]
     },
     "execution_count": 10,
     "metadata": {},
     "output_type": "execute_result"
    },
    {
     "data": {
      "image/png": "[encoded data removed]",
      "text/plain": [
       "<Figure size 432x288 with 2 Axes>"
      ]
     },
     "metadata": {
      "needs_background": "light"
     },
     "output_type": "display_data"
    }
   ],
   "source": [
    "occ_int = df[ 'occ' ].replace( { 'E': 0, 'L':0, 'M':2, 'H':1 } )\n",
    "temp = pd.concat( [ df, occ_int ], axis = 1 ).dropna( thresh = 2 )\n",
    "temp.columns = [ 'pre', 'alt', 'hum', 'temp', 'ven', 'occ', 'occ_int' ]\n",
    "\n",
    "sns.heatmap( temp.corr(), annot = True )"
   ]
  },
  {
   "cell_type": "markdown",
   "metadata": {},
   "source": [
    "# Datasets Generation"
   ]
  },
  {
   "cell_type": "code",
   "execution_count": 11,
   "metadata": {},
   "outputs": [],
   "source": [
    "from ml.generation import *\n",
    "import enum\n",
    "\n",
    "class DF( enum.Enum ):\n",
    "    _OR = 0\n",
    "    _10SEC = 1\n",
    "    _1MIN = 2\n",
    "    _5MIN = 3\n",
    "\n",
    "AGG = [ 'mean' ]\n",
    "dfs = { DF._10SEC: None, DF._1MIN: None, DF._5MIN: None }\n",
    "grids = { \n",
    "    'svc': { DF._10SEC: None, DF._1MIN: None, DF._5MIN: None },\n",
    "    'knn': { DF._10SEC: None, DF._1MIN: None, DF._5MIN: None },\n",
    "    'dt': { DF._10SEC: None, DF._1MIN: None, DF._5MIN: None } }"
   ]
  },
  {
   "cell_type": "markdown",
   "metadata": {},
   "source": [
    "## Different resolutions generation"
   ]
  },
  {
   "cell_type": "markdown",
   "metadata": {},
   "source": [
    "### 10 sec. avg."
   ]
  },
  {
   "cell_type": "code",
   "execution_count": 12,
   "metadata": {},
   "outputs": [],
   "source": [
    "dfs[ DF._10SEC ] = df_10sec_avg( df.reset_index( drop = False ), AGG ).set_index( 'date' )"
   ]
  },
  {
   "cell_type": "markdown",
   "metadata": {},
   "source": [
    "### 1 minute samples"
   ]
  },
  {
   "cell_type": "code",
   "execution_count": 13,
   "metadata": {},
   "outputs": [],
   "source": [
    "dfs[ DF._1MIN ] = df_1min_samples( df )"
   ]
  },
  {
   "cell_type": "markdown",
   "metadata": {},
   "source": [
    "### 5 minutes samples"
   ]
  },
  {
   "cell_type": "code",
   "execution_count": 14,
   "metadata": {},
   "outputs": [],
   "source": [
    "dfs[ DF._5MIN ] = df_5min_samples( df )"
   ]
  },
  {
   "cell_type": "markdown",
   "metadata": {},
   "source": [
    "## Data splitting, standarization and balancing"
   ]
  },
  {
   "cell_type": "code",
   "execution_count": 15,
   "metadata": {},
   "outputs": [
    {
     "name": "stdout",
     "output_type": "stream",
     "text": [
      "Before balancing: DF._10SEC Counter({'L': 16223, 'E': 4084, 'M': 2826, 'H': 536})\n",
      "After balancing: DF._10SEC Counter({'M': 16256, 'L': 16223, 'H': 16216, 'E': 16200})\n",
      "\n",
      "Before balancing: DF._1MIN Counter({'L': 2730, 'E': 673, 'M': 480, 'H': 92})\n",
      "After balancing: DF._1MIN Counter({'E': 2737, 'H': 2732, 'L': 2730, 'M': 2724})\n",
      "\n",
      "Before balancing: DF._5MIN Counter({'L': 553, 'E': 136, 'M': 96, 'H': 19})\n",
      "After balancing: DF._5MIN Counter({'M': 558, 'E': 556, 'L': 553, 'H': 551})\n",
      "\n"
     ]
    }
   ],
   "source": [
    "from imblearn.over_sampling import ADASYN\n",
    "from collections import Counter\n",
    "\n",
    "# Number of neighbors to use for balancing each dataset\n",
    "\n",
    "neighbors = { \n",
    "    DF._OR: 1, \n",
    "    DF._10SEC: 1, \n",
    "    DF._1MIN: 1, \n",
    "    DF._5MIN: 1 \n",
    "}\n",
    "\n",
    "for k, d in dfs.items() :  \n",
    "    temp = list( split_data( d, test_size = 0.20 ) )\n",
    "    temp[ X_TRAIN ], temp[ X_TEST ] = standardize( temp[ X_TRAIN ], temp[ X_TEST ] )\n",
    "    \n",
    "    print( 'Before balancing:', k, Counter( temp[ Y_TRAIN ] ) )\n",
    "    temp[ X_TRAIN ], temp[ Y_TRAIN ] = balance_df( \n",
    "        temp[ X_TRAIN ], \n",
    "        temp[ Y_TRAIN ], \n",
    "        neighbors[ k ] )\n",
    "    print( 'After balancing:', k, Counter( temp[ Y_TRAIN ] ) )\n",
    "    print()\n",
    "    \n",
    "    dfs[ k ] = temp"
   ]
  },
  {
   "cell_type": "markdown",
   "metadata": {},
   "source": [
    "# Classification"
   ]
  },
  {
   "cell_type": "code",
   "execution_count": 16,
   "metadata": {},
   "outputs": [],
   "source": [
    "from sklearn.pipeline import Pipeline, make_pipeline\n",
    "from sklearn.svm import SVC\n",
    "from sklearn.decomposition import PCA\n",
    "from ml.classification import *\n",
    "\n",
    "\n",
    "params_svc = [ { \n",
    "    'C': [ .1, 1, 10,  ], \n",
    "    'kernel': [ 'linear', 'poly' ] \n",
    "}, { \n",
    "    'C': [ .1, 1, 10 ], \n",
    "    'kernel': [ 'rbf' ],\n",
    "    'gamma': [ 10, 1, 0.1 ]\n",
    "} ]"
   ]
  },
  {
   "cell_type": "markdown",
   "metadata": {},
   "source": [
    "## Regular"
   ]
  },
  {
   "cell_type": "code",
   "execution_count": 19,
   "metadata": {},
   "outputs": [
    {
     "name": "stdout",
     "output_type": "stream",
     "text": [
      "Dataset  DF._5MIN 4\n",
      "Best params:  {'C': 10, 'gamma': 10, 'kernel': 'rbf'}\n",
      "Training Accuracy 0.964389955566426\n",
      "Test Accuracy:  0.8955223880597015\n",
      "CPU times: user 30.1 s, sys: 155 ms, total: 30.2 s\n",
      "Wall time: 30.5 s\n"
     ]
    }
   ],
   "source": [
    "%%time\n",
    "for k, df in dfs.items():\n",
    "    if( k != DF._10SEC and k != DF._1MIN ):\n",
    "        print( 'Dataset ', k, len( df ) )\n",
    "        train_and_test( \n",
    "                SVC(), params_svc, \n",
    "                df[ X_TRAIN ], df[ Y_TRAIN ], \n",
    "                df[ X_TEST ], df[ Y_TEST ] )"
   ]
  },
  {
   "cell_type": "markdown",
   "metadata": {},
   "source": [
    "## PCA"
   ]
  },
  {
   "cell_type": "code",
   "execution_count": 20,
   "metadata": {},
   "outputs": [
    {
     "name": "stdout",
     "output_type": "stream",
     "text": [
      "Dataset  DF._5MIN\n",
      "Best params:  {'svc__C': 10, 'svc__gamma': 10, 'svc__kernel': 'rbf'}\n",
      "Training Accuracy 0.9528973543679428\n",
      "Test Accuracy:  0.8805970149253731\n",
      "CPU times: user 3min 52s, sys: 2.69 s, total: 3min 55s\n",
      "Wall time: 41.8 s\n"
     ]
    }
   ],
   "source": [
    "%%time\n",
    "for k, df in dfs.items():\n",
    "    if( k != DF._10SEC and k != DF._1MIN ): \n",
    "        print( 'Dataset ', k )\n",
    "        grids[ 'svc' ][ k ] = train_and_test( \n",
    "                make_pipeline( PCA( .95 ), SVC() ), \n",
    "                prefix_params( params_svc, 'svc' ), \n",
    "                df[ X_TRAIN ], df[ Y_TRAIN ], \n",
    "                df[ X_TEST ], df[ Y_TEST ] )"
   ]
  },
  {
   "cell_type": "markdown",
   "metadata": {},
   "source": [
    "# Evaluation"
   ]
  },
  {
   "cell_type": "code",
   "execution_count": 21,
   "metadata": {},
   "outputs": [],
   "source": [
    "from ml.evaluation import *"
   ]
  },
  {
   "cell_type": "markdown",
   "metadata": {},
   "source": [
    "## Learning Curves"
   ]
  },
  {
   "cell_type": "code",
   "execution_count": 22,
   "metadata": {},
   "outputs": [
    {
     "data": {
      "image/png": "[encoded data removed]",
      "text/plain": [
       "<Figure size 504x1080 with 3 Axes>"
      ]
     },
     "metadata": {
      "needs_background": "light"
     },
     "output_type": "display_data"
    }
   ],
   "source": [
    "temp = [ item for item in dfs.items() if item[ 0 ] not in [ DF._10SEC, DF._1MIN ] ]\n",
    "plot_learning_curves( temp, grids[ 'svc' ], 'SVM' )"
   ]
  },
  {
   "cell_type": "code",
   "execution_count": null,
   "metadata": {},
   "outputs": [],
   "source": []
  }
 ],
 "metadata": {
  "kernelspec": {
   "display_name": "Python 3",
   "language": "python",
   "name": "python3"
  },
  "language_info": {
   "codemirror_mode": {
    "name": "ipython",
    "version": 3
   },
   "file_extension": ".py",
   "mimetype": "text/x-python",
   "name": "python",
   "nbconvert_exporter": "python",
   "pygments_lexer": "ipython3",
   "version": "3.7.6"
  }
 },
 "nbformat": 4,
 "nbformat_minor": 4
}
