{
 "cells": [
  {
   "cell_type": "code",
   "execution_count": 1,
   "metadata": {},
   "outputs": [],
   "source": [
    "import pandas as pd\n",
    "import numpy as np\n",
    "import matplotlib.pyplot as plt \n",
    "import seaborn as sns\n",
    "from datetime import timedelta\n",
    "\n",
    "# sns.set( style = 'darkgrid' )"
   ]
  },
  {
   "cell_type": "markdown",
   "metadata": {},
   "source": [
    "# Data Cleaning and Visualization"
   ]
  },
  {
   "cell_type": "code",
   "execution_count": 2,
   "metadata": {},
   "outputs": [
    {
     "name": "stdout",
     "output_type": "stream",
     "text": [
      "<class 'pandas.core.frame.DataFrame'>\n",
      "RangeIndex: 10129 entries, 0 to 10128\n",
      "Data columns (total 6 columns):\n",
      " #   Column  Non-Null Count  Dtype         \n",
      "---  ------  --------------  -----         \n",
      " 0   Date    10129 non-null  datetime64[ns]\n",
      " 1   Pre     10129 non-null  float64       \n",
      " 2   Alt     10129 non-null  float64       \n",
      " 3   Hum     10125 non-null  float64       \n",
      " 4   Temp    10129 non-null  float64       \n",
      " 5   Occ     10129 non-null  object        \n",
      "dtypes: datetime64[ns](1), float64(4), object(1)\n",
      "memory usage: 474.9+ KB\n"
     ]
    }
   ],
   "source": [
    "df = pd.read_csv( './Sensado_GYM_Completo.csv', encoding = 'ISO-8859-1', parse_dates = [ 'Fecha' ] )\n",
    "df.columns = [ 'Date', 'Pre', 'Alt', 'Hum', 'Temp', 'Occ' ]\n",
    "df.info()"
   ]
  },
  {
   "cell_type": "markdown",
   "metadata": {},
   "source": [
    "## Filling null values"
   ]
  },
  {
   "cell_type": "code",
   "execution_count": 3,
   "metadata": {},
   "outputs": [
    {
     "data": {
      "text/plain": [
       "Date    0\n",
       "Pre     0\n",
       "Alt     0\n",
       "Hum     4\n",
       "Temp    0\n",
       "Occ     0\n",
       "dtype: int64"
      ]
     },
     "execution_count": 3,
     "metadata": {},
     "output_type": "execute_result"
    }
   ],
   "source": [
    "len( df ) - df.count()"
   ]
  },
  {
   "cell_type": "code",
   "execution_count": 4,
   "metadata": {},
   "outputs": [
    {
     "data": {
      "text/plain": [
       "Date    0\n",
       "Pre     0\n",
       "Alt     0\n",
       "Hum     0\n",
       "Temp    0\n",
       "Occ     0\n",
       "dtype: int64"
      ]
     },
     "execution_count": 4,
     "metadata": {},
     "output_type": "execute_result"
    }
   ],
   "source": [
    "df[ 'Hum' ].fillna( method ='ffill', inplace = True )\n",
    "len( df ) - df.count()"
   ]
  },
  {
   "cell_type": "code",
   "execution_count": 5,
   "metadata": {},
   "outputs": [],
   "source": [
    "# date format mm-dd-yyyy\n",
    "# Fixing an error on the dates\n",
    "\n",
    "temp = df[ ( df.Date >= '2019-01-01' ) & ( df.Date <= '2019-02' ) ][ 'Date' ] + timedelta( days = 264 )\n",
    "df.loc[ temp.index, 'Date' ] = temp"
   ]
  },
  {
   "cell_type": "markdown",
   "metadata": {},
   "source": [
    "## Visualization "
   ]
  },
  {
   "cell_type": "markdown",
   "metadata": {},
   "source": [
    "### Complete dataset"
   ]
  },
  {
   "cell_type": "code",
   "execution_count": 6,
   "metadata": {},
   "outputs": [],
   "source": [
    "from scipy.stats import pearsonr\n",
    "\n",
    "def pearson_corr( x, y, **kws ):\n",
    "    ( r, p ) = pearsonr( x, y )\n",
    "    ax = plt.gca()\n",
    "    ax.annotate( \"r = {:.2f} \".format( r ),\n",
    "                xy = (.1, .9), xycoords = ax.transAxes )\n",
    "\n",
    "def make_patch_spines_invisible( ax ):\n",
    "    ax.set_frame_on( True )\n",
    "    ax.patch.set_visible( False )\n",
    "    for sp in ax.spines.values():\n",
    "        sp.set_visible( False )\n",
    "        \n",
    "def plot_env_vars( x, temp, hum, occ, title = 'Temperature, Humidity and Occupancy' ):\n",
    "    fig, host = plt.subplots( 1, 1, figsize = ( 20, 6 ) )\n",
    "    \n",
    "    par1 = host.twinx()\n",
    "    par2 = host.twinx()\n",
    "\n",
    "    par2.spines[ 'right' ].set_position( ( 'axes', 1.04 ) )\n",
    "    make_patch_spines_invisible( par2 )\n",
    "    par2.spines[ 'right' ].set_visible( True )\n",
    "    \n",
    "    g1,  = host.plot( x, temp, 'royalblue', label = 'Temp' )\n",
    "    g2,  = par1.plot( x, hum, 'forestgreen', label = 'Hum' )\n",
    "    g3,  = par2.plot( x, occ.replace( { 'L': 0, 'M':1, 'H':2 } ), 'lightcoral', label = 'Occ' )\n",
    "    \n",
    "    host.set_xlabel( 'Date' )\n",
    "    host.set_ylabel( 'Temp')\n",
    "    par1.set_ylabel( 'Hum' )\n",
    "    par2.set_ylabel( 'Occ' )\n",
    "    \n",
    "    par2.set_ylim( 0, 10 )\n",
    "    par2.yaxis.set_major_locator( plt.IndexLocator( base = 1, offset = 0 ) )\n",
    "    host.xaxis.set_major_locator( plt.AutoLocator() )\n",
    "    \n",
    "    plots = [ g1, g2, g3 ]\n",
    "    host.legend( plots, [ l.get_label() for l in plots ] )\n",
    "    \n",
    "    fig.autofmt_xdate()\n",
    "    plt.title( title )\n",
    "    plt.show()\n",
    "    \n",
    "def plot_single( x, y, name ):\n",
    "    fig, ax = plt.subplots( 1, 1, figsize = ( 20, 6 ) )\n",
    "    \n",
    "    g, = plt.plot( x, y, 'royalblue', label = name )\n",
    "    \n",
    "    ax.xaxis.set_major_locator( plt.AutoLocator() )\n",
    "    ax.legend( [ g ], [ g.get_label() ] )\n",
    "    ax.set_ylabel( name.capitalize() )\n",
    "    \n",
    "    fig.autofmt_xdate()\n",
    "    plt.title( name.capitalize(), fontsize = 16 )\n",
    "    plt.show()"
   ]
  },
  {
   "cell_type": "code",
   "execution_count": 7,
   "metadata": {},
   "outputs": [
    {
     "data": {
      "image/png": "[encoded data removed]",
      "text/plain": [
       "<Figure size 1440x432 with 3 Axes>"
      ]
     },
     "metadata": {
      "needs_background": "light"
     },
     "output_type": "display_data"
    },
    {
     "data": {
      "image/png": "[encoded data removed]",
      "text/plain": [
       "<Figure size 1440x432 with 1 Axes>"
      ]
     },
     "metadata": {
      "needs_background": "light"
     },
     "output_type": "display_data"
    },
    {
     "data": {
      "text/plain": [
       "<matplotlib.axes._subplots.AxesSubplot at 0x7fabdfe0f890>"
      ]
     },
     "execution_count": 7,
     "metadata": {},
     "output_type": "execute_result"
    },
    {
     "data": {
      "image/png": "[encoded data removed]",
      "text/plain": [
       "<Figure size 432x288 with 2 Axes>"
      ]
     },
     "metadata": {
      "needs_background": "light"
     },
     "output_type": "display_data"
    }
   ],
   "source": [
    "plot_env_vars( df.index, df[ 'Temp' ], df[ 'Hum' ], df[ 'Occ' ] )\n",
    "plot_single( df.index, df[ 'Pre' ], 'Pressure' )\n",
    "sns.heatmap( df.corr(), annot = True )"
   ]
  },
  {
   "cell_type": "markdown",
   "metadata": {},
   "source": [
    "### By Day"
   ]
  },
  {
   "cell_type": "code",
   "execution_count": 8,
   "metadata": {},
   "outputs": [
    {
     "data": {
      "text/html": [
       "<div>\n",
       "<style scoped>\n",
       "    .dataframe tbody tr th:only-of-type {\n",
       "        vertical-align: middle;\n",
       "    }\n",
       "\n",
       "    .dataframe tbody tr th {\n",
       "        vertical-align: top;\n",
       "    }\n",
       "\n",
       "    .dataframe thead th {\n",
       "        text-align: right;\n",
       "    }\n",
       "</style>\n",
       "<table border=\"1\" class=\"dataframe\">\n",
       "  <thead>\n",
       "    <tr style=\"text-align: right;\">\n",
       "      <th></th>\n",
       "      <th>Pre</th>\n",
       "      <th>Alt</th>\n",
       "      <th>Hum</th>\n",
       "      <th>Temp</th>\n",
       "    </tr>\n",
       "    <tr>\n",
       "      <th>Date</th>\n",
       "      <th></th>\n",
       "      <th></th>\n",
       "      <th></th>\n",
       "      <th></th>\n",
       "    </tr>\n",
       "  </thead>\n",
       "  <tbody>\n",
       "    <tr>\n",
       "      <th>2019-09-18</th>\n",
       "      <td>95008.449992</td>\n",
       "      <td>539.690016</td>\n",
       "      <td>57.736928</td>\n",
       "      <td>27.221200</td>\n",
       "    </tr>\n",
       "    <tr>\n",
       "      <th>2019-09-23</th>\n",
       "      <td>95306.477768</td>\n",
       "      <td>513.586958</td>\n",
       "      <td>55.216022</td>\n",
       "      <td>27.252038</td>\n",
       "    </tr>\n",
       "    <tr>\n",
       "      <th>2019-09-24</th>\n",
       "      <td>95071.054374</td>\n",
       "      <td>534.214876</td>\n",
       "      <td>56.129014</td>\n",
       "      <td>28.490017</td>\n",
       "    </tr>\n",
       "    <tr>\n",
       "      <th>2019-09-25</th>\n",
       "      <td>95239.831184</td>\n",
       "      <td>519.415755</td>\n",
       "      <td>55.598449</td>\n",
       "      <td>27.456422</td>\n",
       "    </tr>\n",
       "    <tr>\n",
       "      <th>2019-10-01</th>\n",
       "      <td>95361.285578</td>\n",
       "      <td>508.789821</td>\n",
       "      <td>57.533138</td>\n",
       "      <td>28.210349</td>\n",
       "    </tr>\n",
       "    <tr>\n",
       "      <th>2019-10-02</th>\n",
       "      <td>95186.726685</td>\n",
       "      <td>524.065776</td>\n",
       "      <td>60.022156</td>\n",
       "      <td>27.216251</td>\n",
       "    </tr>\n",
       "  </tbody>\n",
       "</table>\n",
       "</div>"
      ],
      "text/plain": [
       "                     Pre         Alt        Hum       Temp\n",
       "Date                                                      \n",
       "2019-09-18  95008.449992  539.690016  57.736928  27.221200\n",
       "2019-09-23  95306.477768  513.586958  55.216022  27.252038\n",
       "2019-09-24  95071.054374  534.214876  56.129014  28.490017\n",
       "2019-09-25  95239.831184  519.415755  55.598449  27.456422\n",
       "2019-10-01  95361.285578  508.789821  57.533138  28.210349\n",
       "2019-10-02  95186.726685  524.065776  60.022156  27.216251"
      ]
     },
     "execution_count": 8,
     "metadata": {},
     "output_type": "execute_result"
    }
   ],
   "source": [
    "df_temp = df.set_index( 'Date' ).resample( 'D' ).mean().dropna( how = 'any' )\n",
    "df_temp.head( 50 )"
   ]
  },
  {
   "cell_type": "code",
   "execution_count": 9,
   "metadata": {},
   "outputs": [
    {
     "name": "stdout",
     "output_type": "stream",
     "text": [
      "Counter({'M': 1250})\n",
      "Counter({'H': 1141, 'M': 611})\n",
      "Counter({'M': 2292, 'H': 1217})\n",
      "Counter({'L': 1199})\n",
      "Counter({'M': 1176})\n",
      "Counter({'L': 1243})\n"
     ]
    }
   ],
   "source": [
    "from collections import Counter\n",
    "\n",
    "df_temp = df.groupby( df.Date.dt.floor( 'D' ) ) \n",
    "for i, g in df_temp:\n",
    "#     plot_env_vars( \n",
    "#         g.reset_index( drop = True ).index, \n",
    "#         g[ 'Temp' ], \n",
    "#         g[ 'Hum' ], \n",
    "#         g[ 'Occ' ],\n",
    "#         \"Temperature and Humidity (\" + g.Date.iloc[ 0 ].strftime( '%Y-%b-%d' ) + \")\" )\n",
    "    \n",
    "    print( Counter( g.Occ ) )"
   ]
  },
  {
   "cell_type": "markdown",
   "metadata": {},
   "source": [
    "# Preparing the Datasets"
   ]
  },
  {
   "cell_type": "code",
   "execution_count": 10,
   "metadata": {},
   "outputs": [],
   "source": [
    "import enum\n",
    "\n",
    "class DF( enum.Enum ):\n",
    "    _OR = 0\n",
    "    _10SEC = 1\n",
    "    _1MIN = 2\n",
    "    _5MIN = 3\n",
    "\n",
    "AGG = [ 'mean' ]\n",
    "dfs = { DF._OR: df, DF._10SEC: None, DF._1MIN: None, DF._5MIN: None }\n",
    "grids = { \n",
    "    'svc': { DF._OR: None, DF._10SEC: None, DF._1MIN: None, DF._5MIN: None },\n",
    "    'knn': { DF._OR: None, DF._10SEC: None, DF._1MIN: None, DF._5MIN: None },\n",
    "    'dt': { DF._OR: None, DF._10SEC: None, DF._1MIN: None, DF._5MIN: None } }"
   ]
  },
  {
   "cell_type": "markdown",
   "metadata": {},
   "source": [
    "## Generating datasets with different resolution"
   ]
  },
  {
   "cell_type": "markdown",
   "metadata": {},
   "source": [
    "### 10 seconds averaged"
   ]
  },
  {
   "cell_type": "code",
   "execution_count": 11,
   "metadata": {},
   "outputs": [],
   "source": [
    "def agg_date( col ):\n",
    "    return col.iloc[ 0 ] # left labeling\n",
    "\n",
    "def agg_occupancy( col ): \n",
    "    return col.mode()[ 0 ]\n",
    "\n",
    "def groupby_10( g, agg ):\n",
    "    return g.groupby( np.arange( len( g ) ) // 10 ).agg( { \n",
    "        'Date': agg_date, \n",
    "        'Occ': agg_occupancy,\n",
    "        'Pre': agg, \n",
    "        'Alt': agg, \n",
    "        'Hum': agg, \n",
    "        'Temp': agg } )\n",
    "\n",
    "\n",
    "temp =  ( df.groupby( df.Date.dt.floor( 'D' ) )\n",
    "    .apply( groupby_10, AGG )\n",
    "    .reset_index( drop = True ) )\n",
    "\n",
    "temp.columns = [ c[ 0 ] for c in temp.columns ]\n",
    "temp = ( temp\n",
    "    .rename( columns = { 'Date_agg_date': 'Date', 'Occ_agg_occupancy': 'Occ' } )\n",
    "    .sort_values( by = 'Date' )\n",
    "    .reset_index( drop = True ) )\n",
    "\n",
    "dfs[ DF._10SEC ] = temp"
   ]
  },
  {
   "cell_type": "markdown",
   "metadata": {},
   "source": [
    "### 1 minute"
   ]
  },
  {
   "cell_type": "code",
   "execution_count": 12,
   "metadata": {},
   "outputs": [],
   "source": [
    "temp = ( df\n",
    "    .set_index( 'Date' )\n",
    "    .resample( '1 min' )\n",
    "    .first()\n",
    "    .dropna( axis = 0, how = 'any' )\n",
    "    .reset_index() )\n",
    "\n",
    "dfs[ DF._1MIN ] = temp"
   ]
  },
  {
   "cell_type": "markdown",
   "metadata": {},
   "source": [
    "### 5 minutes"
   ]
  },
  {
   "cell_type": "code",
   "execution_count": 13,
   "metadata": {},
   "outputs": [],
   "source": [
    "temp = ( df\n",
    "    .set_index( 'Date' )\n",
    "    .resample( '5 min' )\n",
    "    .first()\n",
    "    .dropna( axis = 0, how = 'any' )\n",
    "    .reset_index() )\n",
    "\n",
    "dfs[ DF._5MIN ] = temp"
   ]
  },
  {
   "cell_type": "markdown",
   "metadata": {},
   "source": [
    "## Standarization"
   ]
  },
  {
   "cell_type": "code",
   "execution_count": 14,
   "metadata": {},
   "outputs": [],
   "source": [
    "from sklearn.model_selection import train_test_split\n",
    "from sklearn.preprocessing import StandardScaler\n",
    "\n",
    "X_TRAIN = 0\n",
    "X_TEST = 1\n",
    "Y_TRAIN = 2\n",
    "Y_TEST = 3\n",
    "\n",
    "def standarize( df ):\n",
    "    x_train, x_test, y_train, y_test = train_test_split( \n",
    "        df.drop( [ 'Occ', 'Date' ], axis = 1 ), \n",
    "        df.Occ, \n",
    "        test_size = .20, \n",
    "        random_state = 0 )\n",
    "    \n",
    "    scaler = StandardScaler()\n",
    "    scaler.fit( x_train )\n",
    "\n",
    "    x_train = scaler.transform( x_train )\n",
    "    x_test = scaler.transform( x_test )\n",
    "    \n",
    "    return x_train, x_test, y_train, y_test\n",
    "\n",
    "for k, d in dfs.items() : \n",
    "    x_train, x_test, y_train, y_test = standarize( d )\n",
    "    dfs[ k ] = [ x_train, x_test, y_train, y_test ]"
   ]
  },
  {
   "cell_type": "markdown",
   "metadata": {},
   "source": [
    "## Balancing classes"
   ]
  },
  {
   "cell_type": "code",
   "execution_count": 15,
   "metadata": {},
   "outputs": [
    {
     "name": "stdout",
     "output_type": "stream",
     "text": [
      "DF._OR Counter({'M': 4273, 'H': 4273, 'L': 4273})\n",
      "DF._10SEC Counter({'H': 427, 'M': 425, 'L': 425})\n",
      "DF._1MIN Counter({'H': 78, 'M': 77, 'L': 77})\n",
      "DF._5MIN Counter({'L': 21, 'M': 21, 'H': 21})\n"
     ]
    }
   ],
   "source": [
    "from imblearn.over_sampling import ADASYN\n",
    "from collections import Counter\n",
    "\n",
    "neighborgs = { DF._OR: 32, DF._10SEC: 32, DF._1MIN: 5, DF._5MIN: 3 }\n",
    "for k, d in dfs.items() :   \n",
    "    oversampler = ADASYN( \n",
    "        sampling_strategy = 'not majority', \n",
    "        n_neighbors = neighborgs[ k ], \n",
    "        random_state = 42 )\n",
    "    \n",
    "    x_train, y_train = oversampler.fit_resample( d[ X_TRAIN ], d[ Y_TRAIN ] )\n",
    "    d[ X_TRAIN ] = x_train\n",
    "    d[ Y_TRAIN ] = y_train\n",
    "    print( k, Counter( y_train ) )"
   ]
  },
  {
   "cell_type": "markdown",
   "metadata": {},
   "source": [
    "# Features Selection"
   ]
  },
  {
   "cell_type": "markdown",
   "metadata": {},
   "source": [
    "# Classification"
   ]
  },
  {
   "cell_type": "code",
   "execution_count": 16,
   "metadata": {},
   "outputs": [],
   "source": [
    "from sklearn.model_selection import RepeatedStratifiedKFold, GridSearchCV\n",
    "from sklearn.metrics import confusion_matrix, accuracy_score\n",
    "from sklearn.pipeline import Pipeline\n",
    "\n",
    "from sklearn.neighbors import KNeighborsClassifier\n",
    "from sklearn.tree import DecisionTreeClassifier\n",
    "from sklearn import svm\n",
    "from sklearn.decomposition import PCA\n",
    "\n",
    "\n",
    "\n",
    "def grid_search( estimator, params ):\n",
    "    scoring = 'accuracy'\n",
    "    cv_method = RepeatedStratifiedKFold( n_splits = 10, n_repeats = 2, random_state = 0 )\n",
    "    \n",
    "    return GridSearchCV( \n",
    "        estimator = estimator,\n",
    "        param_grid = params,\n",
    "        cv = cv_method,\n",
    "        verbose = False,\n",
    "        scoring = scoring,\n",
    "        return_train_score = True )\n",
    "\n",
    "\n",
    "def train_and_test( estimator, params, x_train, y_train, \n",
    "                   x_test, y_test, plot_cmatrix = False ):\n",
    "    \n",
    "    grid = grid_search( estimator, params )\n",
    "    \n",
    "    # Training and evaluation\n",
    "\n",
    "    grid.fit( x_train, y_train );\n",
    "    print( 'Best params: ', grid.best_params_ )\n",
    "    print( 'Training Accuracy', grid.best_score_ )\n",
    "\n",
    "    y_pred = grid.best_estimator_.predict( x_test )\n",
    "    print( 'Test Accuracy: ', accuracy_score( y_test, y_pred ) )\n",
    "    \n",
    "    if( plot_cmatrix ) :\n",
    "        fig, ax = plt.subplots( 1, 1 )\n",
    "        g = sns.heatmap( confusion_matrix( y_test, y_pred ), annot = True, cmap = \"YlGnBu\" )\n",
    "        g.set_title( 'Test Confussion Matrix' )\n",
    "    \n",
    "    return grid"
   ]
  },
  {
   "cell_type": "markdown",
   "metadata": {},
   "source": [
    "## Regular"
   ]
  },
  {
   "cell_type": "markdown",
   "metadata": {},
   "source": [
    "### SVM"
   ]
  },
  {
   "cell_type": "code",
   "execution_count": 17,
   "metadata": {},
   "outputs": [
    {
     "name": "stdout",
     "output_type": "stream",
     "text": [
      "-----------------------------------\n",
      "With different resolutions\n",
      "-----------------------------------\n",
      "Dataset  DF._10SEC\n",
      "Best params:  {'C': 0.1, 'gamma': 1, 'kernel': 'rbf'}\n",
      "Training Accuracy 0.99921875\n",
      "Test Accuracy:  0.9950738916256158\n",
      "Dataset  DF._1MIN\n",
      "Best params:  {'C': 1, 'gamma': 1, 'kernel': 'rbf'}\n",
      "Training Accuracy 1.0\n",
      "Test Accuracy:  1.0\n",
      "Dataset  DF._5MIN\n",
      "Best params:  {'C': 10, 'gamma': 1, 'kernel': 'rbf'}\n",
      "Training Accuracy 0.9142857142857143\n",
      "Test Accuracy:  0.8888888888888888\n"
     ]
    }
   ],
   "source": [
    "params_svc = [ { \n",
    "    'C': [ .1, 1, 10,  ], \n",
    "    'kernel': [ 'linear', 'poly' ] \n",
    "}, { \n",
    "    'C': [ .1, 1, 10 ], \n",
    "    'kernel': [ 'rbf' ],\n",
    "    'gamma': [ 10, 1, 0.1 ]\n",
    "} ]\n",
    "\n",
    "\n",
    "print( '-----------------------------------' )\n",
    "print( 'Regular datasets' )\n",
    "print( '-----------------------------------' )\n",
    "for k, df in dfs.items():\n",
    "    if( k != DF._OR ):\n",
    "        print( 'Dataset ', k )\n",
    "        train_and_test( \n",
    "                svm.SVC(), params_svc, \n",
    "                df[ X_TRAIN ], df[ Y_TRAIN ], \n",
    "                df[ X_TEST ], df[ Y_TEST ] )"
   ]
  },
  {
   "cell_type": "markdown",
   "metadata": {},
   "source": [
    "### KNN"
   ]
  },
  {
   "cell_type": "code",
   "execution_count": 18,
   "metadata": {},
   "outputs": [
    {
     "name": "stdout",
     "output_type": "stream",
     "text": [
      "-----------------------------------\n",
      "With different resolutions\n",
      "-----------------------------------\n",
      "Dataset  DF._OR\n",
      "Best params:  {'algorithm': 'brute', 'n_neighbors': 1, 'p': 1}\n",
      "Training Accuracy 1.0\n",
      "Test Accuracy:  1.0\n",
      "Dataset  DF._10SEC\n",
      "Best params:  {'algorithm': 'brute', 'n_neighbors': 1, 'p': 1}\n",
      "Training Accuracy 0.99921875\n",
      "Test Accuracy:  0.9950738916256158\n",
      "Dataset  DF._1MIN\n",
      "Best params:  {'algorithm': 'brute', 'n_neighbors': 1, 'p': 1}\n",
      "Training Accuracy 0.9957427536231883\n",
      "Test Accuracy:  1.0\n",
      "Dataset  DF._5MIN\n",
      "Best params:  {'algorithm': 'brute', 'n_neighbors': 1, 'p': 2}\n",
      "Training Accuracy 0.9309523809523809\n",
      "Test Accuracy:  0.7777777777777778\n"
     ]
    }
   ],
   "source": [
    "params_knn = [ { \n",
    "    'n_neighbors': [ 1, 3, 8, 13 ], \n",
    "    'p': [ 1, 2 ], # mikowsky distance\n",
    "    'algorithm': [ 'brute', 'ball_tree', 'kd_tree' ]\n",
    "} ]\n",
    "\n",
    "print( '-----------------------------------' )\n",
    "print( 'Regular datasets' )\n",
    "print( '-----------------------------------' )\n",
    "for k, df in dfs.items():\n",
    "    print( 'Dataset ', k )\n",
    "    train_and_test( KNeighborsClassifier(), params_knn, \n",
    "                   df[ X_TRAIN ], df[ Y_TRAIN ], \n",
    "                   df[ X_TEST ], df[ Y_TEST ] )"
   ]
  },
  {
   "cell_type": "markdown",
   "metadata": {},
   "source": [
    "### Decision Trees"
   ]
  },
  {
   "cell_type": "code",
   "execution_count": 19,
   "metadata": {},
   "outputs": [
    {
     "name": "stdout",
     "output_type": "stream",
     "text": [
      "-----------------------------------\n",
      "With different resolutions\n",
      "-----------------------------------\n",
      "Dataset  DF._OR\n",
      "Best params:  {'criterion': 'gini', 'max_depth': 5}\n",
      "Training Accuracy 1.0\n",
      "Test Accuracy:  1.0\n",
      "Dataset  DF._10SEC\n",
      "Best params:  {'criterion': 'gini', 'max_depth': 5}\n",
      "Training Accuracy 0.9980407234251969\n",
      "Test Accuracy:  0.9950738916256158\n",
      "Dataset  DF._1MIN\n",
      "Best params:  {'criterion': 'entropy', 'max_depth': 8}\n",
      "Training Accuracy 0.9893115942028985\n",
      "Test Accuracy:  0.9722222222222222\n",
      "Dataset  DF._5MIN\n",
      "Best params:  {'criterion': 'gini', 'max_depth': 7}\n",
      "Training Accuracy 0.8964285714285714\n",
      "Test Accuracy:  0.7777777777777778\n"
     ]
    }
   ],
   "source": [
    "params_dt = [ { \n",
    "    'criterion': [ 'gini', 'entropy' ], \n",
    "    'max_depth': [ 2, 3, 4, 5, 6, 7, 8, 9, 10, 11, 12 ]\n",
    "} ]\n",
    "\n",
    "print( '-----------------------------------' )\n",
    "print( 'Regular datasets' )\n",
    "print( '-----------------------------------' )\n",
    "for k, df in dfs.items():\n",
    "    print( 'Dataset ', k )\n",
    "    train_and_test( DecisionTreeClassifier(), params_dt, \n",
    "                   df[ X_TRAIN ], df[ Y_TRAIN ], \n",
    "                   df[ X_TEST ], df[ Y_TEST ] )"
   ]
  },
  {
   "cell_type": "markdown",
   "metadata": {},
   "source": [
    "## PCA"
   ]
  },
  {
   "cell_type": "code",
   "execution_count": null,
   "metadata": {},
   "outputs": [],
   "source": [
    "def add_pca_estimator( estimator ):\n",
    "    return Pipeline( [ ( 'reduce_dim', PCA( .95 ) ),  ( 'clf', estimator ) ] )\n",
    "    \n",
    "def prefix_params( d_list, prefix ):\n",
    "    result = []\n",
    "    for d in d_list: \n",
    "        temp = {}\n",
    "        for key in d.keys():\n",
    "            temp[ prefix + '__' + key ] = d[ key ]\n",
    "        result.append( temp )\n",
    "    return result"
   ]
  },
  {
   "cell_type": "markdown",
   "metadata": {},
   "source": [
    "### SVM"
   ]
  },
  {
   "cell_type": "code",
   "execution_count": null,
   "metadata": {},
   "outputs": [],
   "source": [
    "print( '-----------------------------------' )\n",
    "print( 'PCA datasets' )\n",
    "print( '-----------------------------------' )\n",
    "for k, df in dfs.items():\n",
    "    if( k != DF._OR ): # the original dataset does not converge\n",
    "        print( 'Dataset ', k )\n",
    "        grids[ 'svc' ][ k ] = train_and_test( \n",
    "                add_pca_estimator( svm.SVC() ), \n",
    "                prefix_params( params_svc, 'clf' ), \n",
    "                df[ X_TRAIN ], df[ Y_TRAIN ], \n",
    "                df[ X_TEST ], df[ Y_TEST ] )"
   ]
  },
  {
   "cell_type": "markdown",
   "metadata": {},
   "source": [
    "### KNN"
   ]
  },
  {
   "cell_type": "code",
   "execution_count": null,
   "metadata": {},
   "outputs": [],
   "source": [
    "print( '-----------------------------------' )\n",
    "print( 'PCA datasets' )\n",
    "print( '-----------------------------------' )\n",
    "for k, df in dfs.items():\n",
    "    print( 'Dataset ', k )\n",
    "    grids[ 'knn' ][ k ] = train_and_test( \n",
    "                add_pca_estimator( KNeighborsClassifier() ), \n",
    "                prefix_params( params_knn, 'clf' ), \n",
    "                df[ X_TRAIN ], df[ Y_TRAIN ], \n",
    "                df[ X_TEST ], df[ Y_TEST ] )"
   ]
  },
  {
   "cell_type": "markdown",
   "metadata": {},
   "source": [
    "### Decision Trees"
   ]
  },
  {
   "cell_type": "code",
   "execution_count": null,
   "metadata": {},
   "outputs": [],
   "source": [
    "print( '-----------------------------------' )\n",
    "print( 'Testing with PCA datasets' )\n",
    "print( '-----------------------------------' )\n",
    "for k, df in dfs.items():\n",
    "    print( 'Dataset ', k )\n",
    "    grids[ 'dt' ][ k ] = train_and_test( \n",
    "        add_pca_estimator( DecisionTreeClassifier() ), \n",
    "        prefix_params( params_dt, 'clf' ), \n",
    "        df[ X_TRAIN ], df[ Y_TRAIN ], \n",
    "        df[ X_TEST ], df[ Y_TEST ] )"
   ]
  },
  {
   "cell_type": "markdown",
   "metadata": {},
   "source": [
    "# Evaluation"
   ]
  },
  {
   "cell_type": "markdown",
   "metadata": {},
   "source": [
    "## Learning Curves Analysis"
   ]
  },
  {
   "cell_type": "code",
   "execution_count": null,
   "metadata": {},
   "outputs": [],
   "source": [
    "from sklearn.model_selection import learning_curve\n",
    "from sklearn.model_selection import StratifiedShuffleSplit\n",
    "\n",
    "def plot_learning_curve( estimator, title, X, y, axes = None, ylim = None, cv = None,\n",
    "                        n_jobs = None, train_sizes = np.linspace( .1, 1.0, 5 ) ):\n",
    "\n",
    "    if axes is None:\n",
    "        _, axes = plt.subplots(1, 3, figsize=(20, 5))\n",
    "\n",
    "    axes[0].set_title(title)\n",
    "    if ylim is not None:\n",
    "        axes[0].set_ylim( *ylim )\n",
    "    axes[0].set_xlabel( 'Training examples' )\n",
    "    axes[0].set_ylabel( 'Score' )\n",
    "\n",
    "    train_sizes, train_scores, test_scores, fit_times, _ = \\\n",
    "        learning_curve( estimator, X, y, cv = cv, n_jobs = n_jobs,\n",
    "                       train_sizes = train_sizes,\n",
    "                       return_times = True )\n",
    "    \n",
    "    train_scores_mean = np.mean(train_scores, axis=1)\n",
    "    train_scores_std = np.std(train_scores, axis=1)\n",
    "    \n",
    "    test_scores_mean = np.mean(test_scores, axis=1)\n",
    "    test_scores_std = np.std(test_scores, axis=1)\n",
    "    \n",
    "    fit_times_mean = np.mean(fit_times, axis=1)\n",
    "    fit_times_std = np.std(fit_times, axis=1)\n",
    "\n",
    "    # Plot learning curve\n",
    "    \n",
    "    axes[0].grid()\n",
    "    axes[0].fill_between( train_sizes, train_scores_mean - train_scores_std,\n",
    "                         train_scores_mean + train_scores_std, alpha = 0.1,\n",
    "                         color = 'r')\n",
    "    axes[0].fill_between( train_sizes, test_scores_mean - test_scores_std,\n",
    "                         test_scores_mean + test_scores_std, alpha = 0.1,\n",
    "                         color = 'g' )\n",
    "    \n",
    "    axes[0].plot( train_sizes, train_scores_mean, 'o-', color = 'r',\n",
    "                 label = 'Training score' )\n",
    "    axes[0].plot( train_sizes, test_scores_mean, 'o-', color = 'g',\n",
    "                 label = 'Cross-validation score' )\n",
    "    axes[0].legend( loc = 'best' )\n",
    "\n",
    "    \n",
    "    # Plot n_samples vs fit_times\n",
    "    \n",
    "    axes[1].grid()\n",
    "    axes[1].plot( train_sizes, fit_times_mean, 'o-' )\n",
    "    axes[1].fill_between( train_sizes, fit_times_mean - fit_times_std,\n",
    "                         fit_times_mean + fit_times_std, alpha = 0.1 )\n",
    "    axes[1].set_xlabel( 'Training examples' )\n",
    "    axes[1].set_ylabel( 'fit_times' )\n",
    "    axes[1].set_title( 'Scalability of the model' )\n",
    "    \n",
    "    \n",
    "    # Plot fit_time vs score\n",
    "    \n",
    "    axes[2].grid()\n",
    "    axes[2].plot( fit_times_mean, test_scores_mean, 'o-' )\n",
    "    axes[2].fill_between( fit_times_mean, test_scores_mean - test_scores_std,\n",
    "                         test_scores_mean + test_scores_std, alpha = 0.1 )\n",
    "    axes[2].set_xlabel( 'fit_times' )\n",
    "    axes[2].set_ylabel( 'Performance of the model' )\n",
    "    axes[2].set_title( 'Performance of the model' )\n",
    "\n",
    "    return plt"
   ]
  },
  {
   "cell_type": "markdown",
   "metadata": {},
   "source": [
    "### SVM"
   ]
  },
  {
   "cell_type": "code",
   "execution_count": null,
   "metadata": {},
   "outputs": [],
   "source": [
    "fig, axes = plt.subplots( 3, 3, figsize=( 21, 15 ) )\n",
    "\n",
    "# Cross validation with 100 iterations to get smoother mean test and train\n",
    "# score curves, each time with 20% data randomly selected as a validation set.\n",
    "\n",
    "cv = StratifiedShuffleSplit( n_splits = 100, test_size = 0.2, random_state = 0 )\n",
    "title = 'Learning Curves SVC with PCA ( 10 sec. ave. )'\n",
    "plot_learning_curve( grids[ 'svc' ][ DF._10SEC ].best_estimator_, \n",
    "                    title, \n",
    "                    dfs[ DF._10SEC ][ X_TRAIN ], \n",
    "                    dfs[ DF._10SEC ][ Y_TRAIN ], \n",
    "                    axes = axes[ :, 0 ], \n",
    "                    ylim = ( 0.7, 1.01 ),\n",
    "                    cv = cv, \n",
    "                    n_jobs = 4 )\n",
    "\n",
    "cv = StratifiedShuffleSplit( n_splits = 100, test_size = 0.2, random_state = 0 )\n",
    "title = 'Learning Curves SVC with PCA ( 1 min. )'\n",
    "plot_learning_curve( grids[ 'svc' ][ DF._1MIN ].best_estimator_, \n",
    "                    title, \n",
    "                    dfs[ DF._1MIN ][ X_TRAIN ], \n",
    "                    dfs[ DF._1MIN ][ Y_TRAIN ], \n",
    "                    axes = axes[ :, 1 ], \n",
    "                    ylim = ( 0.7, 1.01 ),\n",
    "                    cv = cv, \n",
    "                    n_jobs = 4 )\n",
    "\n",
    "cv = StratifiedShuffleSplit( n_splits = 100, test_size = 0.2, random_state = 0 )\n",
    "title = 'Learning Curves SVC with PCA ( 5 min. )'\n",
    "plot_learning_curve( grids[ 'svc' ][ DF._5MIN ].best_estimator_, \n",
    "                    title, \n",
    "                    dfs[ DF._5MIN ][ X_TRAIN ], \n",
    "                    dfs[ DF._5MIN ][ Y_TRAIN ], \n",
    "                    axes = axes[ :, 1 ], \n",
    "                    ylim = ( 0.7, 1.01 ),\n",
    "                    cv = cv, \n",
    "                    n_jobs = 4 )\n",
    "\n",
    "plt.show()"
   ]
  },
  {
   "cell_type": "code",
   "execution_count": null,
   "metadata": {},
   "outputs": [],
   "source": []
  },
  {
   "cell_type": "code",
   "execution_count": null,
   "metadata": {},
   "outputs": [],
   "source": [
    "temp = dfs[ DF._1MIN ]\n",
    "train_and_test( grid_dt_pca, temp[ X_TRAIN ], temp[ Y_TRAIN ], temp[ X_TEST ], temp[ Y_TEST ] )\n",
    "y_pred = pd.Series( grid_dt_pca.best_estimator_.predict( temp[ X_TEST ] ) )"
   ]
  },
  {
   "cell_type": "code",
   "execution_count": null,
   "metadata": {},
   "outputs": [],
   "source": []
  },
  {
   "cell_type": "code",
   "execution_count": null,
   "metadata": {},
   "outputs": [],
   "source": [
    "from mpl_toolkits import mplot3d\n",
    "\n",
    "temp_df = pd.DataFrame( temp[ X_TEST ], columns = [ 'pre', 'alt', 'hum', 'temp' ] )\n",
    "temp_df[ 'occ' ] = temp[ Y_TEST ].reset_index( drop = True )\n",
    "\n",
    "fig = plt.subplots( 1, 1, figsize = ( 15, 15 ) )\n",
    "ax = plt.axes(projection=\"3d\")\n",
    "ax.scatter3D( temp_df[ 'temp' ], temp_df[ 'hum' ], temp_df[ 'pre' ], c = y_pred.replace( { 'L': 0, 'M':1, 'H':2 } ), cmap='cool' ); \n",
    "plt.show()\n",
    "\n",
    "fig = plt.subplots( 1, 1, figsize = ( 15, 15 ) )\n",
    "ax = plt.axes(projection=\"3d\")\n",
    "ax.scatter3D( temp_df[ 'temp' ], temp_df[ 'hum' ], temp_df[ 'pre' ], c = temp_df[ 'occ' ].replace( { 'L': 0, 'M':1, 'H':2 } ), cmap='cool' ); \n",
    "plt.show()"
   ]
  },
  {
   "cell_type": "code",
   "execution_count": null,
   "metadata": {},
   "outputs": [],
   "source": []
  }
 ],
 "metadata": {
  "kernelspec": {
   "display_name": "Python 3",
   "language": "python",
   "name": "python3"
  },
  "language_info": {
   "codemirror_mode": {
    "name": "ipython",
    "version": 3
   },
   "file_extension": ".py",
   "mimetype": "text/x-python",
   "name": "python",
   "nbconvert_exporter": "python",
   "pygments_lexer": "ipython3",
   "version": "3.7.6"
  },
  "toc-autonumbering": true,
  "toc-showcode": false,
  "toc-showmarkdowntxt": false,
  "toc-showtags": false
 },
 "nbformat": 4,
 "nbformat_minor": 4
}
