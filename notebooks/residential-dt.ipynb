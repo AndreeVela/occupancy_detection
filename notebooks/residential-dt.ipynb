{
 "cells": [
  {
   "cell_type": "code",
   "execution_count": null,
   "metadata": {
    "colab": {
     "base_uri": "https://localhost:8080/",
     "height": 124
    },
    "colab_type": "code",
    "executionInfo": {
     "elapsed": 20045,
     "status": "ok",
     "timestamp": 1596523654133,
     "user": {
      "displayName": "Irving Andreé Vela Miam",
      "photoUrl": "https://lh3.googleusercontent.com/a-/AOh14GhAjgyoWO54L35SwsMM0VH1GJ5GMxa_FXEbR9fK=s64",
      "userId": "03152376786038210194"
     },
     "user_tz": 300
    },
    "id": "9eTOCulLOVDH",
    "outputId": "e8a448c8-1e80-4b36-80cc-0fea37337bb0"
   },
   "outputs": [],
   "source": [
    "from google.colab import drive\n",
    "drive.mount('/content/drive')"
   ]
  },
  {
   "cell_type": "code",
   "execution_count": 1,
   "metadata": {
    "colab": {
     "base_uri": "https://localhost:8080/",
     "height": 72
    },
    "colab_type": "code",
    "executionInfo": {
     "elapsed": 2125,
     "status": "ok",
     "timestamp": 1596523683204,
     "user": {
      "displayName": "Irving Andreé Vela Miam",
      "photoUrl": "https://lh3.googleusercontent.com/a-/AOh14GhAjgyoWO54L35SwsMM0VH1GJ5GMxa_FXEbR9fK=s64",
      "userId": "03152376786038210194"
     },
     "user_tz": 300
    },
    "id": "9Ib5kZ7DmxUA",
    "outputId": "3cd9bde9-1c24-41ce-e613-8a002b3f916c"
   },
   "outputs": [],
   "source": [
    "import pandas as pd\n",
    "import numpy as np\n",
    "import matplotlib.pyplot as plt \n",
    "import seaborn as sns\n",
    "import enum\n",
    "import os\n",
    "\n",
    "import sys\n",
    "# sys.path.append( '/content/drive/My Drive/thesis-workspace' ) # drive version\n",
    "sys.path.append( '../src/' ) # local version\n",
    "\n",
    "from ml.preprocessing import *"
   ]
  },
  {
   "cell_type": "markdown",
   "metadata": {
    "colab_type": "text",
    "id": "nadr2T9VmxUJ"
   },
   "source": [
    "# Classification"
   ]
  },
  {
   "cell_type": "markdown",
   "metadata": {
    "colab_type": "text",
    "id": "Zc6ISKftmxUL"
   },
   "source": [
    "## Loading Datasets"
   ]
  },
  {
   "cell_type": "code",
   "execution_count": 2,
   "metadata": {
    "colab": {
     "base_uri": "https://localhost:8080/",
     "height": 52
    },
    "colab_type": "code",
    "executionInfo": {
     "elapsed": 1382,
     "status": "ok",
     "timestamp": 1596523688692,
     "user": {
      "displayName": "Irving Andreé Vela Miam",
      "photoUrl": "https://lh3.googleusercontent.com/a-/AOh14GhAjgyoWO54L35SwsMM0VH1GJ5GMxa_FXEbR9fK=s64",
      "userId": "03152376786038210194"
     },
     "user_tz": 300
    },
    "id": "kpkQ5qsqmxUP",
    "outputId": "87fcb32f-049e-43b5-937a-fd26cebd7e78"
   },
   "outputs": [],
   "source": [
    "class DF( enum.Enum ):\n",
    "    _10SEC = 0\n",
    "    _10SEC_AVG = 1\n",
    "    _30SEC = 2\n",
    "    _30SEC_AVG = 3\n",
    "    _1MIN = 4\n",
    "    _1MIN_AVG = 5\n",
    "\n",
    "# path = [ '.', 'drive', 'My Drive', 'thesis-workspace', 'datasets' ]\n",
    "path = [ '..', 'datasets' ]\n",
    "\n",
    "df = {}\n",
    "df[ DF._10SEC ] = pd.read_csv( os.path.join( *path, 'ds-residential-10sec.csv' ) , index_col = 'date', parse_dates = [ 'date' ] )\n",
    "df[ DF._10SEC_AVG ] = pd.read_csv( os.path.join( *path, 'ds-residential-10sec-avg.csv' ), index_col = 'date', parse_dates = [ 'date' ] )\n",
    "df[ DF._30SEC ] = pd.read_csv( os.path.join( *path, 'ds-residential-30sec-avg.csv' ), index_col = 'date', parse_dates = [ 'date' ] )\n",
    "df[ DF._30SEC_AVG ] = pd.read_csv( os.path.join( *path, 'ds-residential-30sec-avg.csv' ), index_col = 'date', parse_dates = [ 'date' ] )\n",
    "df[ DF._1MIN ] = pd.read_csv( os.path.join( *path, 'ds-residential-1min-avg.csv' ), index_col = 'date', parse_dates = [ 'date' ] )\n",
    "df[ DF._1MIN_AVG ] = pd.read_csv( os.path.join( *path, 'ds-residential-1min-avg.csv' ), index_col = 'date', parse_dates = [ 'date' ] )"
   ]
  },
  {
   "cell_type": "markdown",
   "metadata": {
    "colab_type": "text",
    "id": "qowQEuS6mxVl"
   },
   "source": [
    "## Data splitting, standarization and balancing"
   ]
  },
  {
   "cell_type": "code",
   "execution_count": 3,
   "metadata": {
    "colab": {
     "base_uri": "https://localhost:8080/",
     "height": 662
    },
    "colab_type": "code",
    "executionInfo": {
     "elapsed": 16548,
     "status": "ok",
     "timestamp": 1596523776030,
     "user": {
      "displayName": "Irving Andreé Vela Miam",
      "photoUrl": "https://lh3.googleusercontent.com/a-/AOh14GhAjgyoWO54L35SwsMM0VH1GJ5GMxa_FXEbR9fK=s64",
      "userId": "03152376786038210194"
     },
     "user_tz": 300
    },
    "id": "XETcqb7CmxVm",
    "outputId": "490960b3-7557-4983-961e-9d3699d0aacf"
   },
   "outputs": [
    {
     "name": "stdout",
     "output_type": "stream",
     "text": [
      "Before balancing: DF._10SEC Counter({'L': 16325, 'E': 4098, 'M': 2830, 'H': 547})\n",
      "After balancing: DF._10SEC Counter({'M': 16364, 'E': 16348, 'H': 16327, 'L': 16325})\n",
      "\n",
      "Before balancing: DF._10SEC_AVG Counter({'L': 16325, 'E': 4098, 'M': 2830, 'H': 547})\n",
      "After balancing: DF._10SEC_AVG Counter({'M': 16345, 'E': 16334, 'L': 16325, 'H': 16323})\n",
      "\n",
      "Before balancing: DF._30SEC Counter({'L': 5450, 'E': 1345, 'M': 956, 'H': 188})\n",
      "After balancing: DF._30SEC Counter({'L': 5450, 'E': 5449, 'H': 5448, 'M': 5444})\n",
      "\n",
      "Before balancing: DF._30SEC_AVG Counter({'L': 5450, 'E': 1345, 'M': 956, 'H': 188})\n",
      "After balancing: DF._30SEC_AVG Counter({'L': 5450, 'E': 5449, 'H': 5448, 'M': 5444})\n",
      "\n",
      "Before balancing: DF._1MIN Counter({'L': 2730, 'E': 673, 'M': 480, 'H': 92})\n",
      "After balancing: DF._1MIN Counter({'H': 2732, 'L': 2730, 'E': 2730, 'M': 2721})\n",
      "\n",
      "Before balancing: DF._1MIN_AVG Counter({'L': 2730, 'E': 673, 'M': 480, 'H': 92})\n",
      "After balancing: DF._1MIN_AVG Counter({'H': 2732, 'L': 2730, 'E': 2730, 'M': 2721})\n",
      "\n"
     ]
    }
   ],
   "source": [
    "from imblearn.over_sampling import ADASYN\n",
    "from collections import Counter\n",
    "\n",
    "\n",
    "# Number of neighbors to use for balancing each dataset\n",
    "\n",
    "neighbors = { \n",
    "    DF._10SEC: 1,\n",
    "    DF._10SEC_AVG: 1,\n",
    "    DF._30SEC: 1,\n",
    "    DF._30SEC_AVG: 1,\n",
    "    DF._1MIN: 1,\n",
    "    DF._1MIN_AVG: 1\n",
    "}\n",
    "\n",
    "for k, d in df.items() :  \n",
    "    temp = list( split_data( d, test_size = 0.20 ) )\n",
    "    temp[ X_TRAIN ], temp[ X_TEST ] = standardize( temp[ X_TRAIN ], temp[ X_TEST ] )\n",
    "    \n",
    "    print( 'Before balancing:', k, Counter( temp[ Y_TRAIN ] ) )\n",
    "    temp[ X_TRAIN ], temp[ Y_TRAIN ] = balance_df( \n",
    "        temp[ X_TRAIN ], \n",
    "        temp[ Y_TRAIN ], \n",
    "        neighbors[ k ] )\n",
    "    print( 'After balancing:', k, Counter( temp[ Y_TRAIN ] ) )\n",
    "    print()\n",
    "    \n",
    "    df[ k ] = temp"
   ]
  },
  {
   "cell_type": "markdown",
   "metadata": {
    "colab_type": "text",
    "id": "1yjnaaS-mxVq"
   },
   "source": [
    "## Training"
   ]
  },
  {
   "cell_type": "code",
   "execution_count": 4,
   "metadata": {
    "colab": {},
    "colab_type": "code",
    "executionInfo": {
     "elapsed": 9839,
     "status": "ok",
     "timestamp": 1596523776657,
     "user": {
      "displayName": "Irving Andreé Vela Miam",
      "photoUrl": "https://lh3.googleusercontent.com/a-/AOh14GhAjgyoWO54L35SwsMM0VH1GJ5GMxa_FXEbR9fK=s64",
      "userId": "03152376786038210194"
     },
     "user_tz": 300
    },
    "id": "3IXaUR1kmxVq"
   },
   "outputs": [],
   "source": [
    "from sklearn.pipeline import Pipeline, make_pipeline\n",
    "from sklearn.tree import DecisionTreeClassifier\n",
    "from ml.classification import *\n",
    "\n",
    "params_dt = [ { \n",
    "    'criterion': [ 'gini', 'entropy' ], \n",
    "    'max_depth': [ 2, 3, 4, 6, 8, 10, 11, 12 ]\n",
    "} ]\n",
    "\n",
    "grids = { \n",
    "    DF._10SEC: None,\n",
    "    DF._10SEC_AVG: None,\n",
    "    DF._30SEC: None,\n",
    "    DF._30SEC_AVG: None,\n",
    "    DF._1MIN: None,\n",
    "    DF._1MIN_AVG: None\n",
    "}\n",
    "\n",
    "labels = [ 'E', 'H', 'L', 'M' ]"
   ]
  },
  {
   "cell_type": "markdown",
   "metadata": {
    "colab_type": "text",
    "id": "jnXZ4e5tmxVv"
   },
   "source": [
    "### Regular"
   ]
  },
  {
   "cell_type": "code",
   "execution_count": 5,
   "metadata": {
    "colab": {
     "base_uri": "https://localhost:8080/",
     "height": 489
    },
    "colab_type": "code",
    "executionInfo": {
     "elapsed": 7601986,
     "status": "ok",
     "timestamp": 1596531383319,
     "user": {
      "displayName": "Irving Andreé Vela Miam",
      "photoUrl": "https://lh3.googleusercontent.com/a-/AOh14GhAjgyoWO54L35SwsMM0VH1GJ5GMxa_FXEbR9fK=s64",
      "userId": "03152376786038210194"
     },
     "user_tz": 300
    },
    "id": "2NyYgTr9mxVw",
    "outputId": "2ed6d9af-b5aa-45e7-b126-82701315acde"
   },
   "outputs": [
    {
     "name": "stdout",
     "output_type": "stream",
     "text": [
      "Dataset  DF._1MIN_AVG 4\n",
      "Best params:  {'criterion': 'entropy', 'max_depth': 12}\n",
      "Training Accuracy 0.9882711277417966\n",
      "Test Accuracy:  0.9567404426559356\n",
      "Test ROCauc (OvR): 0.9408131518289437\n",
      "\n",
      "Detailed Classification Report\n",
      "              precision    recall  f1-score   support\n",
      "\n",
      "           E       0.95      0.94      0.94       183\n",
      "           H       0.95      0.78      0.86        23\n",
      "           L       0.97      0.98      0.97       673\n",
      "           M       0.90      0.90      0.90       115\n",
      "\n",
      "    accuracy                           0.96       994\n",
      "   macro avg       0.94      0.90      0.92       994\n",
      "weighted avg       0.96      0.96      0.96       994\n",
      "\n",
      "\n",
      "CPU times: user 19.5 s, sys: 37.3 ms, total: 19.5 s\n",
      "Wall time: 19.5 s\n"
     ]
    },
    {
     "data": {
      "image/png": "[encoded data removed]",
      "text/plain": [
       "<Figure size 432x288 with 2 Axes>"
      ]
     },
     "metadata": {
      "needs_background": "light"
     },
     "output_type": "display_data"
    }
   ],
   "source": [
    "%%time\n",
    "for k, d in df.items():\n",
    "    if( k != DF._10SEC and k != DF._10SEC_AVG and k != DF._30SEC and k != DF._30SEC_AVG and k != DF._1MIN ):\n",
    "        print( 'Dataset ', k, len( d ) )\n",
    "        grids[ k ] = train_and_test( \n",
    "                DecisionTreeClassifier(), params_dt, \n",
    "                d[ X_TRAIN ], d[ Y_TRAIN ], \n",
    "                d[ X_TEST ], d[ Y_TEST ], \n",
    "                plot_cmatrix = True, labels = labels )"
   ]
  },
  {
   "cell_type": "markdown",
   "metadata": {
    "colab_type": "text",
    "id": "QtOukyTYmxV6"
   },
   "source": [
    "# Evaluation"
   ]
  },
  {
   "cell_type": "code",
   "execution_count": 6,
   "metadata": {
    "colab": {},
    "colab_type": "code",
    "executionInfo": {
     "elapsed": 11555048,
     "status": "ok",
     "timestamp": 1596535343975,
     "user": {
      "displayName": "Irving Andreé Vela Miam",
      "photoUrl": "https://lh3.googleusercontent.com/a-/AOh14GhAjgyoWO54L35SwsMM0VH1GJ5GMxa_FXEbR9fK=s64",
      "userId": "03152376786038210194"
     },
     "user_tz": 300
    },
    "id": "A2jgIQn4mxV7"
   },
   "outputs": [],
   "source": [
    "from ml.evaluation import *"
   ]
  },
  {
   "cell_type": "markdown",
   "metadata": {
    "colab_type": "text",
    "id": "2t4Ntz21mxV_"
   },
   "source": [
    "## Learning Curves"
   ]
  },
  {
   "cell_type": "code",
   "execution_count": null,
   "metadata": {
    "colab": {
     "base_uri": "https://localhost:8080/",
     "height": 806
    },
    "colab_type": "code",
    "executionInfo": {
     "elapsed": 18081764,
     "status": "ok",
     "timestamp": 1596541871527,
     "user": {
      "displayName": "Irving Andreé Vela Miam",
      "photoUrl": "https://lh3.googleusercontent.com/a-/AOh14GhAjgyoWO54L35SwsMM0VH1GJ5GMxa_FXEbR9fK=s64",
      "userId": "03152376786038210194"
     },
     "user_tz": 300
    },
    "id": "oUPCSdW_mxV_",
    "outputId": "ffb69a6e-7ab8-4232-fcd1-8003029b4672"
   },
   "outputs": [],
   "source": [
    "%%time\n",
    "temp = [ item for item in df.items() if item[ 0 ] not in [ DF._10SEC, DF._10SEC_AVG, DF._30SEC, DF._30SEC_AVG, DF._1MIN ] ]\n",
    "plot_learning_curves( temp, grids, 'DT' )"
   ]
  },
  {
   "cell_type": "code",
   "execution_count": null,
   "metadata": {},
   "outputs": [],
   "source": []
  }
 ],
 "metadata": {
  "colab": {
   "collapsed_sections": [],
   "name": "residential-knn.ipynb",
   "provenance": [],
   "toc_visible": true
  },
  "kernelspec": {
   "display_name": "Python 3",
   "language": "python",
   "name": "python3"
  },
  "language_info": {
   "codemirror_mode": {
    "name": "ipython",
    "version": 3
   },
   "file_extension": ".py",
   "mimetype": "text/x-python",
   "name": "python",
   "nbconvert_exporter": "python",
   "pygments_lexer": "ipython3",
   "version": "3.7.6"
  }
 },
 "nbformat": 4,
 "nbformat_minor": 4
}
