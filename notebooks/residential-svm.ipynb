{
 "cells": [
  {
   "cell_type": "code",
   "execution_count": null,
   "metadata": {
    "colab": {
     "base_uri": "https://localhost:8080/",
     "height": 124
    },
    "colab_type": "code",
    "executionInfo": {
     "elapsed": 20045,
     "status": "ok",
     "timestamp": 1596523654133,
     "user": {
      "displayName": "Irving Andreé Vela Miam",
      "photoUrl": "https://lh3.googleusercontent.com/a-/AOh14GhAjgyoWO54L35SwsMM0VH1GJ5GMxa_FXEbR9fK=s64",
      "userId": "03152376786038210194"
     },
     "user_tz": 300
    },
    "id": "9eTOCulLOVDH",
    "outputId": "e8a448c8-1e80-4b36-80cc-0fea37337bb0"
   },
   "outputs": [],
   "source": [
    "from google.colab import drive\n",
    "drive.mount('/content/drive')"
   ]
  },
  {
   "cell_type": "code",
   "execution_count": null,
   "metadata": {
    "colab": {
     "base_uri": "https://localhost:8080/",
     "height": 72
    },
    "colab_type": "code",
    "executionInfo": {
     "elapsed": 2125,
     "status": "ok",
     "timestamp": 1596523683204,
     "user": {
      "displayName": "Irving Andreé Vela Miam",
      "photoUrl": "https://lh3.googleusercontent.com/a-/AOh14GhAjgyoWO54L35SwsMM0VH1GJ5GMxa_FXEbR9fK=s64",
      "userId": "03152376786038210194"
     },
     "user_tz": 300
    },
    "id": "9Ib5kZ7DmxUA",
    "outputId": "3cd9bde9-1c24-41ce-e613-8a002b3f916c"
   },
   "outputs": [],
   "source": [
    "import pandas as pd\n",
    "import numpy as np\n",
    "import matplotlib.pyplot as plt \n",
    "import seaborn as sns\n",
    "import enum\n",
    "import os\n",
    "\n",
    "import sys\n",
    "# sys.path.append( '/content/drive/My Drive/thesis-workspace' ) # drive version\n",
    "sys.path.append( '../src/' ) # local version\n",
    "\n",
    "from ml.preprocessing import *"
   ]
  },
  {
   "cell_type": "markdown",
   "metadata": {
    "colab_type": "text",
    "id": "nadr2T9VmxUJ"
   },
   "source": [
    "# Classification"
   ]
  },
  {
   "cell_type": "markdown",
   "metadata": {
    "colab_type": "text",
    "id": "Zc6ISKftmxUL"
   },
   "source": [
    "## Loading Datasets"
   ]
  },
  {
   "cell_type": "code",
   "execution_count": null,
   "metadata": {
    "colab": {
     "base_uri": "https://localhost:8080/",
     "height": 52
    },
    "colab_type": "code",
    "executionInfo": {
     "elapsed": 1382,
     "status": "ok",
     "timestamp": 1596523688692,
     "user": {
      "displayName": "Irving Andreé Vela Miam",
      "photoUrl": "https://lh3.googleusercontent.com/a-/AOh14GhAjgyoWO54L35SwsMM0VH1GJ5GMxa_FXEbR9fK=s64",
      "userId": "03152376786038210194"
     },
     "user_tz": 300
    },
    "id": "kpkQ5qsqmxUP",
    "outputId": "87fcb32f-049e-43b5-937a-fd26cebd7e78"
   },
   "outputs": [],
   "source": [
    "class DF( enum.Enum ):\n",
    "    _10SEC = 0\n",
    "    _10SEC_AVG = 1\n",
    "    _30SEC = 2\n",
    "    _30SEC_AVG = 3\n",
    "    _1MIN = 4\n",
    "    _1MIN_AVG = 5\n",
    "\n",
    "# path = [ '.', 'drive', 'My Drive', 'thesis-workspace', 'datasets' ]\n",
    "path = [ '..', 'datasets' ]\n",
    "\n",
    "df = {}\n",
    "df[ DF._10SEC ] = pd.read_csv( os.path.join( *path, 'ds-residential-10sec.csv' ) , index_col = 'date', parse_dates = [ 'date' ] )\n",
    "df[ DF._10SEC_AVG ] = pd.read_csv( os.path.join( *path, 'ds-residential-10sec-avg.csv' ), index_col = 'date', parse_dates = [ 'date' ] )\n",
    "df[ DF._30SEC ] = pd.read_csv( os.path.join( *path, 'ds-residential-30sec-avg.csv' ), index_col = 'date', parse_dates = [ 'date' ] )\n",
    "df[ DF._30SEC_AVG ] = pd.read_csv( os.path.join( *path, 'ds-residential-30sec-avg.csv' ), index_col = 'date', parse_dates = [ 'date' ] )\n",
    "df[ DF._1MIN ] = pd.read_csv( os.path.join( *path, 'ds-residential-1min-avg.csv' ), index_col = 'date', parse_dates = [ 'date' ] )\n",
    "df[ DF._1MIN_AVG ] = pd.read_csv( os.path.join( *path, 'ds-residential-1min-avg.csv' ), index_col = 'date', parse_dates = [ 'date' ] )"
   ]
  },
  {
   "cell_type": "markdown",
   "metadata": {
    "colab_type": "text",
    "id": "qowQEuS6mxVl"
   },
   "source": [
    "## Data splitting, standarization and balancing"
   ]
  },
  {
   "cell_type": "code",
   "execution_count": null,
   "metadata": {
    "colab": {
     "base_uri": "https://localhost:8080/",
     "height": 662
    },
    "colab_type": "code",
    "executionInfo": {
     "elapsed": 16548,
     "status": "ok",
     "timestamp": 1596523776030,
     "user": {
      "displayName": "Irving Andreé Vela Miam",
      "photoUrl": "https://lh3.googleusercontent.com/a-/AOh14GhAjgyoWO54L35SwsMM0VH1GJ5GMxa_FXEbR9fK=s64",
      "userId": "03152376786038210194"
     },
     "user_tz": 300
    },
    "id": "XETcqb7CmxVm",
    "outputId": "490960b3-7557-4983-961e-9d3699d0aacf"
   },
   "outputs": [],
   "source": [
    "from imblearn.over_sampling import ADASYN\n",
    "from collections import Counter\n",
    "\n",
    "\n",
    "# Number of neighbors to use for balancing each dataset\n",
    "\n",
    "neighbors = { \n",
    "    DF._10SEC: 1,\n",
    "    DF._10SEC_AVG: 1,\n",
    "    DF._30SEC: 1,\n",
    "    DF._30SEC_AVG: 1,\n",
    "    DF._1MIN: 1,\n",
    "    DF._1MIN_AVG: 1\n",
    "}\n",
    "\n",
    "for k, d in df.items() :  \n",
    "    temp = list( split_data( d, test_size = 0.20 ) )\n",
    "    temp[ X_TRAIN ], temp[ X_TEST ] = standardize( temp[ X_TRAIN ], temp[ X_TEST ] )\n",
    "    \n",
    "    print( 'Before balancing:', k, Counter( temp[ Y_TRAIN ] ) )\n",
    "    temp[ X_TRAIN ], temp[ Y_TRAIN ] = balance_df( \n",
    "        temp[ X_TRAIN ], \n",
    "        temp[ Y_TRAIN ], \n",
    "        neighbors[ k ] )\n",
    "    print( 'After balancing:', k, Counter( temp[ Y_TRAIN ] ) )\n",
    "    print()\n",
    "    \n",
    "    df[ k ] = temp"
   ]
  },
  {
   "cell_type": "markdown",
   "metadata": {
    "colab_type": "text",
    "id": "1yjnaaS-mxVq"
   },
   "source": [
    "## Training"
   ]
  },
  {
   "cell_type": "code",
   "execution_count": null,
   "metadata": {
    "colab": {},
    "colab_type": "code",
    "executionInfo": {
     "elapsed": 9839,
     "status": "ok",
     "timestamp": 1596523776657,
     "user": {
      "displayName": "Irving Andreé Vela Miam",
      "photoUrl": "https://lh3.googleusercontent.com/a-/AOh14GhAjgyoWO54L35SwsMM0VH1GJ5GMxa_FXEbR9fK=s64",
      "userId": "03152376786038210194"
     },
     "user_tz": 300
    },
    "id": "3IXaUR1kmxVq"
   },
   "outputs": [],
   "source": [
    "from sklearn.pipeline import Pipeline, make_pipeline\n",
    "from sklearn.svm import SVC\n",
    "from ml.classification import *\n",
    "\n",
    "params_svc = [ { \n",
    "      'C': [ 1, 10, 100 ], # regularization parameter\n",
    "      'kernel': [ 'rbf' ], # removed linear kernels\n",
    "      'gamma': [ 1, 10 ] # how curved the separation is\n",
    "  } ]  \n",
    "\n",
    "grids = { \n",
    "    DF._10SEC: None,\n",
    "    DF._10SEC_AVG: None,\n",
    "    DF._30SEC: None,\n",
    "    DF._30SEC_AVG: None,\n",
    "    DF._1MIN: None,\n",
    "    DF._1MIN_AVG: None\n",
    "}"
   ]
  },
  {
   "cell_type": "markdown",
   "metadata": {
    "colab_type": "text",
    "id": "jnXZ4e5tmxVv"
   },
   "source": [
    "### Regular"
   ]
  },
  {
   "cell_type": "code",
   "execution_count": null,
   "metadata": {
    "colab": {
     "base_uri": "https://localhost:8080/",
     "height": 489
    },
    "colab_type": "code",
    "executionInfo": {
     "elapsed": 7601986,
     "status": "ok",
     "timestamp": 1596531383319,
     "user": {
      "displayName": "Irving Andreé Vela Miam",
      "photoUrl": "https://lh3.googleusercontent.com/a-/AOh14GhAjgyoWO54L35SwsMM0VH1GJ5GMxa_FXEbR9fK=s64",
      "userId": "03152376786038210194"
     },
     "user_tz": 300
    },
    "id": "2NyYgTr9mxVw",
    "outputId": "2ed6d9af-b5aa-45e7-b126-82701315acde"
   },
   "outputs": [],
   "source": [
    "%%time\n",
    "for k, d in df.items():\n",
    "    if( k != DF._10SEC and k != DF._10SEC_AVG and k != DF._30SEC and k != DF._30SEC_AVG and k != DF._1MIN ):\n",
    "        print( 'Dataset ', k, len( d ) )\n",
    "        grids[ k ] = train_and_test( \n",
    "                SVC( probability = True ), params_svc,  \n",
    "                d[ X_TRAIN ], d[ Y_TRAIN ], \n",
    "                d[ X_TEST ], d[ Y_TEST ], plot_cmatrix = True )"
   ]
  },
  {
   "cell_type": "markdown",
   "metadata": {
    "colab_type": "text",
    "id": "QtOukyTYmxV6"
   },
   "source": [
    "# Evaluation"
   ]
  },
  {
   "cell_type": "code",
   "execution_count": null,
   "metadata": {
    "colab": {},
    "colab_type": "code",
    "executionInfo": {
     "elapsed": 11555048,
     "status": "ok",
     "timestamp": 1596535343975,
     "user": {
      "displayName": "Irving Andreé Vela Miam",
      "photoUrl": "https://lh3.googleusercontent.com/a-/AOh14GhAjgyoWO54L35SwsMM0VH1GJ5GMxa_FXEbR9fK=s64",
      "userId": "03152376786038210194"
     },
     "user_tz": 300
    },
    "id": "A2jgIQn4mxV7"
   },
   "outputs": [],
   "source": [
    "from ml.evaluation import *"
   ]
  },
  {
   "cell_type": "markdown",
   "metadata": {
    "colab_type": "text",
    "id": "2t4Ntz21mxV_"
   },
   "source": [
    "## Learning Curves"
   ]
  },
  {
   "cell_type": "code",
   "execution_count": null,
   "metadata": {
    "colab": {
     "base_uri": "https://localhost:8080/",
     "height": 806
    },
    "colab_type": "code",
    "executionInfo": {
     "elapsed": 18081764,
     "status": "ok",
     "timestamp": 1596541871527,
     "user": {
      "displayName": "Irving Andreé Vela Miam",
      "photoUrl": "https://lh3.googleusercontent.com/a-/AOh14GhAjgyoWO54L35SwsMM0VH1GJ5GMxa_FXEbR9fK=s64",
      "userId": "03152376786038210194"
     },
     "user_tz": 300
    },
    "id": "oUPCSdW_mxV_",
    "outputId": "ffb69a6e-7ab8-4232-fcd1-8003029b4672"
   },
   "outputs": [],
   "source": [
    "%%time\n",
    "temp = [ item for item in df.items() if item[ 0 ] not in [ DF._10SEC, DF._10SEC_AVG, DF._30SEC, DF._30SEC_AVG, DF._1MIN ] ]\n",
    "plot_learning_curves( temp, grids, 'SVM' )"
   ]
  },
  {
   "cell_type": "code",
   "execution_count": null,
   "metadata": {},
   "outputs": [],
   "source": []
  }
 ],
 "metadata": {
  "colab": {
   "collapsed_sections": [],
   "name": "residential-knn.ipynb",
   "provenance": [],
   "toc_visible": true
  },
  "kernelspec": {
   "display_name": "Python 3",
   "language": "python",
   "name": "python3"
  },
  "language_info": {
   "codemirror_mode": {
    "name": "ipython",
    "version": 3
   },
   "file_extension": ".py",
   "mimetype": "text/x-python",
   "name": "python",
   "nbconvert_exporter": "python",
   "pygments_lexer": "ipython3",
   "version": "3.7.6"
  }
 },
 "nbformat": 4,
 "nbformat_minor": 4
}
