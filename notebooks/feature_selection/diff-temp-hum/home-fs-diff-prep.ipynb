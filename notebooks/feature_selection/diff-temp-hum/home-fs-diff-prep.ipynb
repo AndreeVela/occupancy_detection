{
 "cells": [
  {
   "cell_type": "code",
   "execution_count": null,
   "metadata": {
    "colab": {
     "base_uri": "https://localhost:8080/",
     "height": 124
    },
    "colab_type": "code",
    "executionInfo": {
     "elapsed": 20045,
     "status": "ok",
     "timestamp": 1596523654133,
     "user": {
      "displayName": "Irving Andreé Vela Miam",
      "photoUrl": "https://lh3.googleusercontent.com/a-/AOh14GhAjgyoWO54L35SwsMM0VH1GJ5GMxa_FXEbR9fK=s64",
      "userId": "03152376786038210194"
     },
     "user_tz": 300
    },
    "id": "9eTOCulLOVDH",
    "outputId": "e8a448c8-1e80-4b36-80cc-0fea37337bb0"
   },
   "outputs": [],
   "source": [
    "# from google.colab import drive\n",
    "# drive.mount('/content/drive')"
   ]
  },
  {
   "cell_type": "code",
   "execution_count": 25,
   "metadata": {},
   "outputs": [],
   "source": [
    "import pandas as pd\n",
    "import numpy as np\n",
    "import matplotlib.pyplot as plt \n",
    "import seaborn as sns\n",
    "import enum\n",
    "import os\n",
    "\n",
    "import sys\n",
    "# sys.path.append( '/content/drive/My Drive/thesis-workspace' ) # drive version\n",
    "sys.path.append( '../../../src/' ) # local version\n",
    "\n",
    "from ml.preprocessing import *\n",
    "from ml.constants import *"
   ]
  },
  {
   "cell_type": "markdown",
   "metadata": {},
   "source": [
    "# Dataset Preparation"
   ]
  },
  {
   "cell_type": "code",
   "execution_count": 78,
   "metadata": {},
   "outputs": [],
   "source": [
    "# path = [ '.', 'drive', 'My Drive', 'thesis-workspace', 'datasets' ]\n",
    "path = [ '..', '..', '..', 'datasets' ]\n",
    "out_path = [ '..', '..', '..', 'datasets', 'feature_selection', 'diff-hum-tem' ]\n",
    "\n",
    "df = pd.read_csv( os.path.join( *path, 'ds-home-1sec.csv' ) , index_col = 'date', parse_dates = [ 'date' ] )"
   ]
  },
  {
   "cell_type": "code",
   "execution_count": 79,
   "metadata": {},
   "outputs": [],
   "source": [
    "class DF( enum.Enum ):\n",
    "    _FULL = 1\n",
    "    _REDUCED_RFE = 2\n",
    "    _REDUCED_KBEST = 3\n",
    "    _MIN = 4\n",
    "\n",
    "dfs = { DF._FULL: None, DF._REDUCED_RFE: None, DF._REDUCED_KBEST: None, DF._MIN: None }"
   ]
  },
  {
   "cell_type": "markdown",
   "metadata": {},
   "source": [
    "## Generating new datasets and features"
   ]
  },
  {
   "cell_type": "code",
   "execution_count": 80,
   "metadata": {},
   "outputs": [
    {
     "name": "stdout",
     "output_type": "stream",
     "text": [
      "CPU times: user 55.8 s, sys: 485 ms, total: 56.3 s\n",
      "Wall time: 56.2 s\n"
     ]
    }
   ],
   "source": [
    "%%time\n",
    "\n",
    "def rename_col( name ):\n",
    "    return name[ 0 ] + '_' + name[ 1 ]\n",
    "\n",
    "# Minimal features dataset\n",
    "\n",
    "dfs[ DF._MIN ] = resample_df( df, '10s' ).drop( columns = [ 'ven' ] )\n",
    "# dfs[ DF._MIN ][ 'diff' ] = dfs[ DF._MIN ][ 'hum' ] - dfs[ DF._MIN ][ 'tem' ]\n",
    "dfs[ DF._MIN ].to_csv( os.path.join( *out_path, 'fs-home-min.csv' ) )\n",
    "\n",
    "# Extended featues dataset\n",
    "\n",
    "dfs[ DF._FULL ] = resample_df_avg( df, '10s', [ 'mean', 'std', pd.DataFrame.kurt ] )\n",
    "dfs[ DF._FULL ].columns = [ rename_col( c ) for c in dfs[ DF._FULL ].columns ]\n",
    "dfs[ DF._FULL ][ 'diff_mean' ] = dfs[ DF._FULL ][ 'hum_mean' ] - dfs[ DF._FULL ][ 'tem_mean' ]\n",
    "dfs[ DF._FULL ] = dfs[ DF._FULL ].rename( columns = { 'occ_mode': 'occ' } )\n",
    "\n",
    "# swaping the two last columns order\n",
    "# df_full reference is needed after splitting\n",
    "\n",
    "df_full = dfs[ DF._FULL ] = dfs[ DF._FULL ][ \n",
    "    list( dfs[ DF._FULL ].columns[ :-2 ] ) + \n",
    "    [ dfs[ DF._FULL ].columns[ -1 ], dfs[ DF._FULL ].columns[ -2 ] ] ]\n",
    "\n",
    "df_full.to_csv( os.path.join( *out_path, 'fs-home-full.csv' ) )\n",
    " "
   ]
  },
  {
   "cell_type": "markdown",
   "metadata": {},
   "source": [
    "## Normalizing and Balancing"
   ]
  },
  {
   "cell_type": "code",
   "execution_count": 83,
   "metadata": {},
   "outputs": [
    {
     "name": "stdout",
     "output_type": "stream",
     "text": [
      "Before balancing: DF._FULL Counter({'L': 16301, 'E': 4128, 'M': 2832, 'H': 531})\n",
      "After balancing: DF._FULL Counter({'L': 16301, 'H': 16211, 'M': 16092, 'E': 15912})\n",
      "\n",
      "Before balancing: DF._MIN Counter({'L': 16325, 'E': 4098, 'M': 2830, 'H': 547})\n",
      "After balancing: DF._MIN Counter({'E': 16353, 'M': 16330, 'H': 16329, 'L': 16325})\n",
      "\n"
     ]
    }
   ],
   "source": [
    "from imblearn.over_sampling import ADASYN\n",
    "from collections import Counter\n",
    "\n",
    "# Number of neighbors to use for balancing each dataset\n",
    "\n",
    "neighbors = { \n",
    "    DF._FULL: 1,\n",
    "    DF._REDUCED_RFE: 1,\n",
    "    DF._REDUCED_KBEST: 1,\n",
    "    DF._MIN: 1\n",
    "}\n",
    "\n",
    "for k, d in dfs.items() :  \n",
    "    if( k != DF._REDUCED_RFE and k != DF._REDUCED_KBEST ): \n",
    "        temp = list( split_data( d, test_size = 0.20 ) )\n",
    "        temp[ X_TRAIN ], temp[ X_TEST ] = standardize( temp[ X_TRAIN ], temp[ X_TEST ] )\n",
    "\n",
    "        print( 'Before balancing:', k, Counter( temp[ Y_TRAIN ] ) )\n",
    "        temp[ X_TRAIN ], temp[ Y_TRAIN ] = balance_df( \n",
    "            temp[ X_TRAIN ], \n",
    "            temp[ Y_TRAIN ], \n",
    "            neighbors[ k ] )\n",
    "        print( 'After balancing:', k, Counter( temp[ Y_TRAIN ] ) )\n",
    "        print()\n",
    "\n",
    "        dfs[ k ] = temp"
   ]
  },
  {
   "cell_type": "code",
   "execution_count": 84,
   "metadata": {},
   "outputs": [
    {
     "data": {
      "text/html": [
       "<div>\n",
       "<style scoped>\n",
       "    .dataframe tbody tr th:only-of-type {\n",
       "        vertical-align: middle;\n",
       "    }\n",
       "\n",
       "    .dataframe tbody tr th {\n",
       "        vertical-align: top;\n",
       "    }\n",
       "\n",
       "    .dataframe thead th {\n",
       "        text-align: right;\n",
       "    }\n",
       "</style>\n",
       "<table border=\"1\" class=\"dataframe\">\n",
       "  <thead>\n",
       "    <tr style=\"text-align: right;\">\n",
       "      <th></th>\n",
       "      <th>pre_mean</th>\n",
       "      <th>pre_std</th>\n",
       "      <th>pre_kurt</th>\n",
       "      <th>hum_mean</th>\n",
       "      <th>hum_std</th>\n",
       "      <th>hum_kurt</th>\n",
       "      <th>tem_mean</th>\n",
       "      <th>tem_std</th>\n",
       "      <th>tem_kurt</th>\n",
       "      <th>diff_mean</th>\n",
       "      <th>occ</th>\n",
       "    </tr>\n",
       "    <tr>\n",
       "      <th>date</th>\n",
       "      <th></th>\n",
       "      <th></th>\n",
       "      <th></th>\n",
       "      <th></th>\n",
       "      <th></th>\n",
       "      <th></th>\n",
       "      <th></th>\n",
       "      <th></th>\n",
       "      <th></th>\n",
       "      <th></th>\n",
       "      <th></th>\n",
       "    </tr>\n",
       "  </thead>\n",
       "  <tbody>\n",
       "    <tr>\n",
       "      <th>2020-05-14 21:08:40</th>\n",
       "      <td>94269.243000</td>\n",
       "      <td>1.630597</td>\n",
       "      <td>0.145379</td>\n",
       "      <td>54.499000</td>\n",
       "      <td>0.022336</td>\n",
       "      <td>0.116262</td>\n",
       "      <td>30.989000</td>\n",
       "      <td>0.003162</td>\n",
       "      <td>10.000000</td>\n",
       "      <td>23.510000</td>\n",
       "      <td>L</td>\n",
       "    </tr>\n",
       "    <tr>\n",
       "      <th>2020-05-14 21:08:50</th>\n",
       "      <td>94269.768889</td>\n",
       "      <td>2.106172</td>\n",
       "      <td>-1.687833</td>\n",
       "      <td>54.603333</td>\n",
       "      <td>0.116726</td>\n",
       "      <td>4.164892</td>\n",
       "      <td>30.986667</td>\n",
       "      <td>0.005000</td>\n",
       "      <td>-1.714286</td>\n",
       "      <td>23.616667</td>\n",
       "      <td>L</td>\n",
       "    </tr>\n",
       "    <tr>\n",
       "      <th>2020-05-14 21:09:00</th>\n",
       "      <td>94269.912000</td>\n",
       "      <td>1.007668</td>\n",
       "      <td>0.428097</td>\n",
       "      <td>54.891000</td>\n",
       "      <td>0.242003</td>\n",
       "      <td>-1.062457</td>\n",
       "      <td>30.988000</td>\n",
       "      <td>0.004216</td>\n",
       "      <td>1.406250</td>\n",
       "      <td>23.903000</td>\n",
       "      <td>L</td>\n",
       "    </tr>\n",
       "    <tr>\n",
       "      <th>2020-05-14 21:09:10</th>\n",
       "      <td>94270.447000</td>\n",
       "      <td>1.518677</td>\n",
       "      <td>-0.847210</td>\n",
       "      <td>54.286000</td>\n",
       "      <td>0.062397</td>\n",
       "      <td>1.293250</td>\n",
       "      <td>30.987000</td>\n",
       "      <td>0.004830</td>\n",
       "      <td>-1.224490</td>\n",
       "      <td>23.299000</td>\n",
       "      <td>L</td>\n",
       "    </tr>\n",
       "    <tr>\n",
       "      <th>2020-05-14 21:09:20</th>\n",
       "      <td>94271.049000</td>\n",
       "      <td>1.509315</td>\n",
       "      <td>1.848369</td>\n",
       "      <td>54.321000</td>\n",
       "      <td>0.158286</td>\n",
       "      <td>0.434056</td>\n",
       "      <td>30.998000</td>\n",
       "      <td>0.006325</td>\n",
       "      <td>0.178571</td>\n",
       "      <td>23.323000</td>\n",
       "      <td>L</td>\n",
       "    </tr>\n",
       "    <tr>\n",
       "      <th>...</th>\n",
       "      <td>...</td>\n",
       "      <td>...</td>\n",
       "      <td>...</td>\n",
       "      <td>...</td>\n",
       "      <td>...</td>\n",
       "      <td>...</td>\n",
       "      <td>...</td>\n",
       "      <td>...</td>\n",
       "      <td>...</td>\n",
       "      <td>...</td>\n",
       "      <td>...</td>\n",
       "    </tr>\n",
       "    <tr>\n",
       "      <th>2020-06-04 23:08:10</th>\n",
       "      <td>94595.233333</td>\n",
       "      <td>0.871937</td>\n",
       "      <td>1.327502</td>\n",
       "      <td>56.377778</td>\n",
       "      <td>0.010929</td>\n",
       "      <td>-1.232172</td>\n",
       "      <td>31.947778</td>\n",
       "      <td>0.004410</td>\n",
       "      <td>0.734694</td>\n",
       "      <td>24.430000</td>\n",
       "      <td>M</td>\n",
       "    </tr>\n",
       "    <tr>\n",
       "      <th>2020-06-04 23:08:20</th>\n",
       "      <td>94595.986000</td>\n",
       "      <td>1.056201</td>\n",
       "      <td>1.598010</td>\n",
       "      <td>56.343000</td>\n",
       "      <td>0.009487</td>\n",
       "      <td>3.533216</td>\n",
       "      <td>31.950000</td>\n",
       "      <td>0.000000</td>\n",
       "      <td>0.000000</td>\n",
       "      <td>24.393000</td>\n",
       "      <td>M</td>\n",
       "    </tr>\n",
       "    <tr>\n",
       "      <th>2020-06-04 23:08:30</th>\n",
       "      <td>94595.866000</td>\n",
       "      <td>1.252022</td>\n",
       "      <td>-1.213272</td>\n",
       "      <td>56.345000</td>\n",
       "      <td>0.007071</td>\n",
       "      <td>0.571429</td>\n",
       "      <td>31.951000</td>\n",
       "      <td>0.003162</td>\n",
       "      <td>10.000000</td>\n",
       "      <td>24.394000</td>\n",
       "      <td>M</td>\n",
       "    </tr>\n",
       "    <tr>\n",
       "      <th>2020-06-04 23:08:40</th>\n",
       "      <td>94596.865000</td>\n",
       "      <td>1.722835</td>\n",
       "      <td>1.601444</td>\n",
       "      <td>56.596000</td>\n",
       "      <td>0.242450</td>\n",
       "      <td>-2.152253</td>\n",
       "      <td>31.949000</td>\n",
       "      <td>0.003162</td>\n",
       "      <td>10.000000</td>\n",
       "      <td>24.647000</td>\n",
       "      <td>M</td>\n",
       "    </tr>\n",
       "    <tr>\n",
       "      <th>2020-06-04 23:08:50</th>\n",
       "      <td>94597.953000</td>\n",
       "      <td>1.558860</td>\n",
       "      <td>-0.644372</td>\n",
       "      <td>57.369000</td>\n",
       "      <td>0.166763</td>\n",
       "      <td>0.035686</td>\n",
       "      <td>31.947000</td>\n",
       "      <td>0.004830</td>\n",
       "      <td>-1.224490</td>\n",
       "      <td>25.422000</td>\n",
       "      <td>M</td>\n",
       "    </tr>\n",
       "  </tbody>\n",
       "</table>\n",
       "<p>29741 rows × 11 columns</p>\n",
       "</div>"
      ],
      "text/plain": [
       "                         pre_mean   pre_std  pre_kurt   hum_mean   hum_std  \\\n",
       "date                                                                         \n",
       "2020-05-14 21:08:40  94269.243000  1.630597  0.145379  54.499000  0.022336   \n",
       "2020-05-14 21:08:50  94269.768889  2.106172 -1.687833  54.603333  0.116726   \n",
       "2020-05-14 21:09:00  94269.912000  1.007668  0.428097  54.891000  0.242003   \n",
       "2020-05-14 21:09:10  94270.447000  1.518677 -0.847210  54.286000  0.062397   \n",
       "2020-05-14 21:09:20  94271.049000  1.509315  1.848369  54.321000  0.158286   \n",
       "...                           ...       ...       ...        ...       ...   \n",
       "2020-06-04 23:08:10  94595.233333  0.871937  1.327502  56.377778  0.010929   \n",
       "2020-06-04 23:08:20  94595.986000  1.056201  1.598010  56.343000  0.009487   \n",
       "2020-06-04 23:08:30  94595.866000  1.252022 -1.213272  56.345000  0.007071   \n",
       "2020-06-04 23:08:40  94596.865000  1.722835  1.601444  56.596000  0.242450   \n",
       "2020-06-04 23:08:50  94597.953000  1.558860 -0.644372  57.369000  0.166763   \n",
       "\n",
       "                     hum_kurt   tem_mean   tem_std   tem_kurt  diff_mean occ  \n",
       "date                                                                          \n",
       "2020-05-14 21:08:40  0.116262  30.989000  0.003162  10.000000  23.510000   L  \n",
       "2020-05-14 21:08:50  4.164892  30.986667  0.005000  -1.714286  23.616667   L  \n",
       "2020-05-14 21:09:00 -1.062457  30.988000  0.004216   1.406250  23.903000   L  \n",
       "2020-05-14 21:09:10  1.293250  30.987000  0.004830  -1.224490  23.299000   L  \n",
       "2020-05-14 21:09:20  0.434056  30.998000  0.006325   0.178571  23.323000   L  \n",
       "...                       ...        ...       ...        ...        ...  ..  \n",
       "2020-06-04 23:08:10 -1.232172  31.947778  0.004410   0.734694  24.430000   M  \n",
       "2020-06-04 23:08:20  3.533216  31.950000  0.000000   0.000000  24.393000   M  \n",
       "2020-06-04 23:08:30  0.571429  31.951000  0.003162  10.000000  24.394000   M  \n",
       "2020-06-04 23:08:40 -2.152253  31.949000  0.003162  10.000000  24.647000   M  \n",
       "2020-06-04 23:08:50  0.035686  31.947000  0.004830  -1.224490  25.422000   M  \n",
       "\n",
       "[29741 rows x 11 columns]"
      ]
     },
     "execution_count": 84,
     "metadata": {},
     "output_type": "execute_result"
    }
   ],
   "source": [
    "df_full"
   ]
  },
  {
   "cell_type": "markdown",
   "metadata": {},
   "source": [
    "# Features Selection"
   ]
  },
  {
   "cell_type": "code",
   "execution_count": 85,
   "metadata": {},
   "outputs": [],
   "source": [
    "from ml.feature_selection import *"
   ]
  },
  {
   "cell_type": "markdown",
   "metadata": {},
   "source": [
    "## Recursive Feature Elimination "
   ]
  },
  {
   "cell_type": "code",
   "execution_count": 86,
   "metadata": {},
   "outputs": [
    {
     "data": {
      "text/html": [
       "<div>\n",
       "<style scoped>\n",
       "    .dataframe tbody tr th:only-of-type {\n",
       "        vertical-align: middle;\n",
       "    }\n",
       "\n",
       "    .dataframe tbody tr th {\n",
       "        vertical-align: top;\n",
       "    }\n",
       "\n",
       "    .dataframe thead th {\n",
       "        text-align: right;\n",
       "    }\n",
       "</style>\n",
       "<table border=\"1\" class=\"dataframe\">\n",
       "  <thead>\n",
       "    <tr style=\"text-align: right;\">\n",
       "      <th></th>\n",
       "      <th>rank</th>\n",
       "      <th>selected</th>\n",
       "    </tr>\n",
       "  </thead>\n",
       "  <tbody>\n",
       "    <tr>\n",
       "      <th>pre_mean</th>\n",
       "      <td>1</td>\n",
       "      <td>1</td>\n",
       "    </tr>\n",
       "    <tr>\n",
       "      <th>hum_mean</th>\n",
       "      <td>1</td>\n",
       "      <td>1</td>\n",
       "    </tr>\n",
       "    <tr>\n",
       "      <th>hum_std</th>\n",
       "      <td>1</td>\n",
       "      <td>1</td>\n",
       "    </tr>\n",
       "    <tr>\n",
       "      <th>tem_mean</th>\n",
       "      <td>1</td>\n",
       "      <td>1</td>\n",
       "    </tr>\n",
       "    <tr>\n",
       "      <th>diff_mean</th>\n",
       "      <td>1</td>\n",
       "      <td>1</td>\n",
       "    </tr>\n",
       "    <tr>\n",
       "      <th>pre_kurt</th>\n",
       "      <td>2</td>\n",
       "      <td>0</td>\n",
       "    </tr>\n",
       "    <tr>\n",
       "      <th>tem_std</th>\n",
       "      <td>3</td>\n",
       "      <td>0</td>\n",
       "    </tr>\n",
       "    <tr>\n",
       "      <th>tem_kurt</th>\n",
       "      <td>4</td>\n",
       "      <td>0</td>\n",
       "    </tr>\n",
       "    <tr>\n",
       "      <th>hum_kurt</th>\n",
       "      <td>5</td>\n",
       "      <td>0</td>\n",
       "    </tr>\n",
       "    <tr>\n",
       "      <th>pre_std</th>\n",
       "      <td>6</td>\n",
       "      <td>0</td>\n",
       "    </tr>\n",
       "  </tbody>\n",
       "</table>\n",
       "</div>"
      ],
      "text/plain": [
       "           rank  selected\n",
       "pre_mean      1         1\n",
       "hum_mean      1         1\n",
       "hum_std       1         1\n",
       "tem_mean      1         1\n",
       "diff_mean     1         1\n",
       "pre_kurt      2         0\n",
       "tem_std       3         0\n",
       "tem_kurt      4         0\n",
       "hum_kurt      5         0\n",
       "pre_std       6         0"
      ]
     },
     "execution_count": 86,
     "metadata": {},
     "output_type": "execute_result"
    }
   ],
   "source": [
    "x_train, x_test, y_train, y_test = dfs[ DF._FULL ]\n",
    "\n",
    "selected_rfe = select_k_rfe( x_train, y_train, df_full.columns[ : -1 ], 5 )\n",
    "selected_rfe"
   ]
  },
  {
   "cell_type": "code",
   "execution_count": 89,
   "metadata": {},
   "outputs": [],
   "source": [
    "dfs[ DF._REDUCED_RFE ] = df_full.drop( columns = selected_rfe.index[ 5: ] )\n",
    "dfs[ DF._REDUCED_RFE ].to_csv( os.path.join( *out_path, 'fs-home-rfe.csv' ) )"
   ]
  },
  {
   "cell_type": "markdown",
   "metadata": {},
   "source": [
    "## 3.2 Selecting K-best"
   ]
  },
  {
   "cell_type": "code",
   "execution_count": 90,
   "metadata": {},
   "outputs": [
    {
     "data": {
      "text/html": [
       "<div>\n",
       "<style scoped>\n",
       "    .dataframe tbody tr th:only-of-type {\n",
       "        vertical-align: middle;\n",
       "    }\n",
       "\n",
       "    .dataframe tbody tr th {\n",
       "        vertical-align: top;\n",
       "    }\n",
       "\n",
       "    .dataframe thead th {\n",
       "        text-align: right;\n",
       "    }\n",
       "</style>\n",
       "<table border=\"1\" class=\"dataframe\">\n",
       "  <thead>\n",
       "    <tr style=\"text-align: right;\">\n",
       "      <th></th>\n",
       "      <th>score</th>\n",
       "      <th>p-value</th>\n",
       "    </tr>\n",
       "  </thead>\n",
       "  <tbody>\n",
       "    <tr>\n",
       "      <th>tem_mean</th>\n",
       "      <td>11,738.60</td>\n",
       "      <td>0.00</td>\n",
       "    </tr>\n",
       "    <tr>\n",
       "      <th>pre_mean</th>\n",
       "      <td>8,286.61</td>\n",
       "      <td>0.00</td>\n",
       "    </tr>\n",
       "    <tr>\n",
       "      <th>diff_mean</th>\n",
       "      <td>6,368.36</td>\n",
       "      <td>0.00</td>\n",
       "    </tr>\n",
       "    <tr>\n",
       "      <th>hum_mean</th>\n",
       "      <td>4,708.84</td>\n",
       "      <td>0.00</td>\n",
       "    </tr>\n",
       "    <tr>\n",
       "      <th>hum_std</th>\n",
       "      <td>1,113.86</td>\n",
       "      <td>0.00</td>\n",
       "    </tr>\n",
       "    <tr>\n",
       "      <th>pre_std</th>\n",
       "      <td>187.55</td>\n",
       "      <td>0.00</td>\n",
       "    </tr>\n",
       "    <tr>\n",
       "      <th>hum_kurt</th>\n",
       "      <td>161.92</td>\n",
       "      <td>0.00</td>\n",
       "    </tr>\n",
       "    <tr>\n",
       "      <th>pre_kurt</th>\n",
       "      <td>116.92</td>\n",
       "      <td>0.00</td>\n",
       "    </tr>\n",
       "    <tr>\n",
       "      <th>tem_std</th>\n",
       "      <td>36.11</td>\n",
       "      <td>0.00</td>\n",
       "    </tr>\n",
       "    <tr>\n",
       "      <th>tem_kurt</th>\n",
       "      <td>4.63</td>\n",
       "      <td>0.00</td>\n",
       "    </tr>\n",
       "  </tbody>\n",
       "</table>\n",
       "</div>"
      ],
      "text/plain": [
       "              score  p-value\n",
       "tem_mean  11,738.60     0.00\n",
       "pre_mean   8,286.61     0.00\n",
       "diff_mean  6,368.36     0.00\n",
       "hum_mean   4,708.84     0.00\n",
       "hum_std    1,113.86     0.00\n",
       "pre_std      187.55     0.00\n",
       "hum_kurt     161.92     0.00\n",
       "pre_kurt     116.92     0.00\n",
       "tem_std       36.11     0.00\n",
       "tem_kurt       4.63     0.00"
      ]
     },
     "execution_count": 90,
     "metadata": {},
     "output_type": "execute_result"
    }
   ],
   "source": [
    "pd.options.display.float_format = '{:,.2f}'.format\n",
    "np.set_printoptions( precision = 2 )\n",
    "\n",
    "selected_kbest = select_k_best( x_train, y_train, df_full.columns[ : -1 ], 'all' )\n",
    "selected_kbest"
   ]
  },
  {
   "cell_type": "code",
   "execution_count": 91,
   "metadata": {},
   "outputs": [],
   "source": [
    "dfs[ DF._REDUCED_KBEST ] = df_full.drop( columns = selected_kbest.index[ 5: ] )\n",
    "dfs[ DF._REDUCED_RFE ].to_csv( os.path.join( *out_path, 'fs-home-kbest.csv' ) )"
   ]
  },
  {
   "cell_type": "markdown",
   "metadata": {},
   "source": [
    "## 3.3 Feature Correlation"
   ]
  },
  {
   "cell_type": "code",
   "execution_count": 92,
   "metadata": {},
   "outputs": [
    {
     "data": {
      "text/plain": [
       "<matplotlib.axes._subplots.AxesSubplot at 0x7fa9765f20a0>"
      ]
     },
     "execution_count": 92,
     "metadata": {},
     "output_type": "execute_result"
    },
    {
     "data": {
      "image/png": "[encoded data removed]",
      "text/plain": [
       "<Figure size 1440x432 with 2 Axes>"
      ]
     },
     "metadata": {
      "needs_background": "light"
     },
     "output_type": "display_data"
    }
   ],
   "source": [
    "temp = np.concatenate( ( x_train, y_train.replace( { 'E': 0, 'L':1, 'M':2, 'H':3 } ).values.reshape( len( y_train ), 1 ) ), axis = 1 )\n",
    "temp = pd.DataFrame( data = temp, columns = df_full.columns )\n",
    "\n",
    "plt.subplots( 1, 1, figsize = ( 20, 6 ) )\n",
    "sns.heatmap( temp.corr(), annot = True )"
   ]
  },
  {
   "cell_type": "markdown",
   "metadata": {},
   "source": [
    "It is necessary to remove highly correlated values"
   ]
  }
 ],
 "metadata": {
  "kernelspec": {
   "display_name": "Python 3",
   "language": "python",
   "name": "python3"
  },
  "language_info": {
   "codemirror_mode": {
    "name": "ipython",
    "version": 3
   },
   "file_extension": ".py",
   "mimetype": "text/x-python",
   "name": "python",
   "nbconvert_exporter": "python",
   "pygments_lexer": "ipython3",
   "version": "3.8.3"
  }
 },
 "nbformat": 4,
 "nbformat_minor": 4
}
