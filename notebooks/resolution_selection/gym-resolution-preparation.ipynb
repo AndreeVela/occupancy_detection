{
 "cells": [
  {
   "cell_type": "markdown",
   "metadata": {},
   "source": [
    "# Preparation"
   ]
  },
  {
   "cell_type": "code",
   "execution_count": 3,
   "metadata": {},
   "outputs": [],
   "source": [
    "import pandas as pd\n",
    "from datetime import timedelta\n",
    "import os\n",
    "\n",
    "import sys\n",
    "sys.path.append( '../../src/' )\n",
    "\n",
    "from ml.preprocessing import *"
   ]
  },
  {
   "cell_type": "code",
   "execution_count": 4,
   "metadata": {},
   "outputs": [],
   "source": [
    "path = [ '..', '..', 'datasets' ]\n",
    "out_path = [ '..', '..', 'datasets', 'resolutions' ]\n",
    "\n",
    "df = pd.read_csv( os.path.join( *path, 'ds-gym-1sec.csv' ) , parse_dates = [ 'date' ] ).drop( columns = [ 'alt' ] )"
   ]
  },
  {
   "cell_type": "markdown",
   "metadata": {},
   "source": [
    "## Removing null values"
   ]
  },
  {
   "cell_type": "code",
   "execution_count": 5,
   "metadata": {},
   "outputs": [
    {
     "name": "stdout",
     "output_type": "stream",
     "text": [
      "Legnth:  10129\n",
      "Null values:\n"
     ]
    },
    {
     "data": {
      "text/plain": [
       "date    0\n",
       "pre     0\n",
       "hum     4\n",
       "tem     0\n",
       "occ     0\n",
       "dtype: int64"
      ]
     },
     "execution_count": 5,
     "metadata": {},
     "output_type": "execute_result"
    }
   ],
   "source": [
    "print( 'Legnth: ', len( df ) )\n",
    "print( 'Null values:' )\n",
    "len( df ) - df.count()"
   ]
  },
  {
   "cell_type": "code",
   "execution_count": 6,
   "metadata": {},
   "outputs": [],
   "source": [
    "df = df.dropna( axis = 0, subset = [ 'occ', 'hum' ], thresh = 2 )"
   ]
  },
  {
   "cell_type": "code",
   "execution_count": 7,
   "metadata": {},
   "outputs": [
    {
     "name": "stdout",
     "output_type": "stream",
     "text": [
      "Legnth:  10125\n",
      "Null values:\n"
     ]
    },
    {
     "data": {
      "text/plain": [
       "date    0\n",
       "pre     0\n",
       "hum     0\n",
       "tem     0\n",
       "occ     0\n",
       "dtype: int64"
      ]
     },
     "execution_count": 7,
     "metadata": {},
     "output_type": "execute_result"
    }
   ],
   "source": [
    "print( 'Legnth: ', len( df ) )\n",
    "print( 'Null values:' )\n",
    "len( df ) - df.count()"
   ]
  },
  {
   "cell_type": "code",
   "execution_count": 8,
   "metadata": {},
   "outputs": [],
   "source": [
    "# date format mm-dd-yyyy\n",
    "\n",
    "temp = df[ ( df.date >= '2019-01-01' ) & ( df.date <= '2019-02' ) ][ 'date' ] + timedelta( days = 264 )\n",
    "df.loc[ temp.index, 'date' ] = temp"
   ]
  },
  {
   "cell_type": "markdown",
   "metadata": {},
   "source": [
    "## Genereting other resolutions"
   ]
  },
  {
   "cell_type": "code",
   "execution_count": 9,
   "metadata": {},
   "outputs": [],
   "source": [
    "from sklearn.model_selection import train_test_split \n",
    "import os\n",
    "\n",
    "path = [ '..', '..', 'datasets' ]\n",
    "out_path = [ '..', '..', 'datasets', 'resolutions' ]\n",
    "\n",
    "def split_and_save( df, out_path, resolution ):\n",
    "    x_train, x_test, y_train , y_test = train_test_split( df[ df.columns[ :-1 ] ], df.occ, test_size = 0.20, random_state = 0 )\n",
    "    x_train[ 'occ' ] = y_train\n",
    "    x_test[ 'occ' ] = y_test\n",
    "    x_train.to_csv( os.path.join( *out_path, 'ds-%s-train.csv' % ( resolution ) ) )\n",
    "    x_test.to_csv( os.path.join( *out_path, 'ds-%s-test.csv'% ( resolution ) ) )\n",
    "    \n",
    "# adding seconds resolution to time index\n",
    "\n",
    "df[ 'seconds' ] = df.groupby( pd.Grouper( key = 'date', freq = 'min' ) ).cumcount()\n",
    "df[ 'date' ] = df.date + pd.to_timedelta( df.seconds, unit = 's' )\n",
    "df = df.drop( columns = [ 'seconds' ] ).set_index( 'date' )"
   ]
  },
  {
   "cell_type": "markdown",
   "metadata": {},
   "source": [
    "### 10 (sampled and averaged)"
   ]
  },
  {
   "cell_type": "code",
   "execution_count": 10,
   "metadata": {},
   "outputs": [],
   "source": [
    "split_and_save( resample_df( df, '10S' ), out_path, 'gym-10sec' )\n",
    "split_and_save( resample_df_avg( df, '10S' ).round( 2 ), out_path, 'gym-10sec-avg' )"
   ]
  },
  {
   "cell_type": "markdown",
   "metadata": {},
   "source": [
    "### 30 seconds "
   ]
  },
  {
   "cell_type": "code",
   "execution_count": 11,
   "metadata": {},
   "outputs": [],
   "source": [
    "split_and_save( resample_df( df, '30S' ), out_path, 'gym-30sec' )\n",
    "split_and_save( resample_df_avg( df, '30S' ).round( 2 ), out_path, 'gym-30sec-avg' )"
   ]
  },
  {
   "cell_type": "markdown",
   "metadata": {},
   "source": [
    "### 1 minute (sampled and averaged)"
   ]
  },
  {
   "cell_type": "code",
   "execution_count": 12,
   "metadata": {},
   "outputs": [],
   "source": [
    "split_and_save( resample_df( df, '1min' ), out_path, 'gym-1min' )\n",
    "split_and_save( resample_df_avg( df, '1min' ).round( 2 ), out_path, 'gym-1min-avg' )"
   ]
  },
  {
   "cell_type": "markdown",
   "metadata": {},
   "source": [
    "### 5 minutes (sampled and averaged)"
   ]
  },
  {
   "cell_type": "code",
   "execution_count": 13,
   "metadata": {},
   "outputs": [],
   "source": [
    "split_and_save( resample_df( df, '5min' ), out_path, 'gym-5min' )\n",
    "split_and_save( resample_df_avg( df, '5min' ).round( 2 ), out_path, 'gym-5min-avg' )"
   ]
  }
 ],
 "metadata": {
  "kernelspec": {
   "display_name": "Python 3",
   "language": "python",
   "name": "python3"
  },
  "language_info": {
   "codemirror_mode": {
    "name": "ipython",
    "version": 3
   },
   "file_extension": ".py",
   "mimetype": "text/x-python",
   "name": "python",
   "nbconvert_exporter": "python",
   "pygments_lexer": "ipython3",
   "version": "3.7.6"
  }
 },
 "nbformat": 4,
 "nbformat_minor": 4
}
