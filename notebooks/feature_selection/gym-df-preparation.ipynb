{
 "cells": [
  {
   "cell_type": "code",
   "execution_count": null,
   "metadata": {
    "colab": {
     "base_uri": "https://localhost:8080/",
     "height": 124
    },
    "colab_type": "code",
    "executionInfo": {
     "elapsed": 20045,
     "status": "ok",
     "timestamp": 1596523654133,
     "user": {
      "displayName": "Irving Andreé Vela Miam",
      "photoUrl": "https://lh3.googleusercontent.com/a-/AOh14GhAjgyoWO54L35SwsMM0VH1GJ5GMxa_FXEbR9fK=s64",
      "userId": "03152376786038210194"
     },
     "user_tz": 300
    },
    "id": "9eTOCulLOVDH",
    "outputId": "e8a448c8-1e80-4b36-80cc-0fea37337bb0"
   },
   "outputs": [],
   "source": [
    "# from google.colab import drive\n",
    "# drive.mount('/content/drive')"
   ]
  },
  {
   "cell_type": "code",
   "execution_count": 1,
   "metadata": {},
   "outputs": [],
   "source": [
    "import pandas as pd\n",
    "import numpy as np\n",
    "import matplotlib.pyplot as plt \n",
    "import seaborn as sns\n",
    "import enum\n",
    "import os\n",
    "\n",
    "import sys\n",
    "# sys.path.append( '/content/drive/My Drive/thesis-workspace' ) # drive version\n",
    "sys.path.append( '../../src/' ) # local version\n",
    "\n",
    "from ml.preprocessing import *\n",
    "from ml.constants import *"
   ]
  },
  {
   "cell_type": "markdown",
   "metadata": {},
   "source": [
    "# Loading and generating datasets"
   ]
  },
  {
   "cell_type": "code",
   "execution_count": 3,
   "metadata": {},
   "outputs": [],
   "source": [
    "# path = [ '.', 'drive', 'My Drive', 'thesis-workspace', 'datasets' ]\n",
    "path = [ '..', '..', 'datasets', 'resolutions' ]\n",
    "out_path = [ '..', '..', 'datasets', 'feature_selection' ]\n",
    "\n",
    "df = pd.read_csv( os.path.join( *path, 'gym-1sec.csv' ) , index_col = 'date', parse_dates = [ 'date' ] ).drop( columns = [ 'alt' ] )"
   ]
  },
  {
   "cell_type": "code",
   "execution_count": 4,
   "metadata": {},
   "outputs": [],
   "source": [
    "class DF( enum.Enum ):\n",
    "    _FULL = 1\n",
    "    _REDUCED_RFE = 2\n",
    "    _REDUCED_KBEST = 2\n",
    "    _MIN = 3\n",
    "\n",
    "dfs = { DF._FULL: None, DF._REDUCED_RFE: None, DF._REDUCED_KBEST: None, DF._MIN: None }\n",
    "\n",
    "# adding seconds resolution to time index\n",
    "\n",
    "df = df.reset_index()\n",
    "df[ 'seconds' ] = df.groupby( pd.Grouper( key = 'date', freq = 'min' ) ).cumcount()\n",
    "df[ 'date' ] = df.date + pd.to_timedelta( df.seconds, unit = 's' )\n",
    "df = df.drop( columns = [ 'seconds' ] ).set_index( 'date' )"
   ]
  },
  {
   "cell_type": "code",
   "execution_count": 5,
   "metadata": {},
   "outputs": [
    {
     "name": "stdout",
     "output_type": "stream",
     "text": [
      "CPU times: user 269 ms, sys: 108 ms, total: 377 ms\n",
      "Wall time: 376 ms\n"
     ]
    }
   ],
   "source": [
    "%%time\n",
    "\n",
    "# Minimal features dataset\n",
    "\n",
    "dfs[ DF._MIN ] = resample_df( df, '10s' )\n",
    "dfs[ DF._MIN ].to_csv( os.path.join( *out_path, 'ds-gym-fs-min.csv' ) )"
   ]
  },
  {
   "cell_type": "code",
   "execution_count": 6,
   "metadata": {},
   "outputs": [
    {
     "name": "stdout",
     "output_type": "stream",
     "text": [
      "CPU times: user 10min 52s, sys: 4.8 s, total: 10min 57s\n",
      "Wall time: 10min 55s\n"
     ]
    }
   ],
   "source": [
    "%%time\n",
    "\n",
    "# Extended features dataset\n",
    "\n",
    "agg = [ 'mean', 'std', pd.DataFrame.kurt ]\n",
    "dfs[ DF._FULL ] = ( df.resample( '10s' )\n",
    "     .agg( { 'pre': agg, 'hum': agg, 'tem': agg, 'occ': mode, } )\n",
    "     .dropna( axis = 0, how = 'any' ) )"
   ]
  },
  {
   "cell_type": "code",
   "execution_count": 8,
   "metadata": {},
   "outputs": [],
   "source": [
    "dfs[ DF._FULL ].columns = [ c[ 0 ] + '_' + c[ 1 ] for c in dfs[ DF._FULL ].columns ]\n",
    "dfs[ DF._FULL ] = dfs[ DF._FULL ].rename( columns = { 'occ_mode': 'occ' } )\n",
    "dfs[ DF._FULL ].to_csv( os.path.join( *out_path, 'ds-gym-fs-full.csv' ) )\n",
    "\n",
    "# We will need the reference after splitting\n",
    "\n",
    "df_full = dfs[ DF._FULL ]"
   ]
  },
  {
   "cell_type": "markdown",
   "metadata": {},
   "source": [
    "# Normalizing and Balancing"
   ]
  },
  {
   "cell_type": "code",
   "execution_count": 10,
   "metadata": {},
   "outputs": [
    {
     "name": "stdout",
     "output_type": "stream",
     "text": [
      "Before balancing: DF._FULL Counter({'M': 438, 'L': 195, 'H': 184})\n",
      "After balancing: DF._FULL Counter({'H': 448, 'M': 438, 'L': 435})\n",
      "\n",
      "Before balancing: DF._MIN Counter({'M': 434, 'L': 198, 'H': 189})\n",
      "After balancing: DF._MIN Counter({'L': 434, 'M': 434, 'H': 434})\n",
      "\n"
     ]
    }
   ],
   "source": [
    "from imblearn.over_sampling import ADASYN\n",
    "from collections import Counter\n",
    "\n",
    "# Number of neighbors to use for balancing each dataset\n",
    "\n",
    "neighbors = { \n",
    "    DF._FULL: 1,\n",
    "    DF._REDUCED_RFE: 1,\n",
    "    DF._REDUCED_KBEST: 1,\n",
    "    DF._MIN: 1\n",
    "}\n",
    "\n",
    "for k, d in dfs.items() :  \n",
    "    if( k != DF._REDUCED_RFE and k != DF._REDUCED_KBEST ): \n",
    "        temp = list( split_data( d, test_size = 0.20 ) )\n",
    "        temp[ X_TRAIN ], temp[ X_TEST ] = standardize( temp[ X_TRAIN ], temp[ X_TEST ] )\n",
    "\n",
    "        print( 'Before balancing:', k, Counter( temp[ Y_TRAIN ] ) )\n",
    "        temp[ X_TRAIN ], temp[ Y_TRAIN ] = balance_df( \n",
    "            temp[ X_TRAIN ], \n",
    "            temp[ Y_TRAIN ], \n",
    "            neighbors[ k ] )\n",
    "        print( 'After balancing:', k, Counter( temp[ Y_TRAIN ] ) )\n",
    "        print()\n",
    "\n",
    "        dfs[ k ] = temp"
   ]
  },
  {
   "cell_type": "markdown",
   "metadata": {},
   "source": [
    "# Features Selection"
   ]
  },
  {
   "cell_type": "code",
   "execution_count": 11,
   "metadata": {},
   "outputs": [],
   "source": [
    "from ml.feature_selection import *"
   ]
  },
  {
   "cell_type": "markdown",
   "metadata": {},
   "source": [
    "## Recursive Feature Elimination "
   ]
  },
  {
   "cell_type": "code",
   "execution_count": 12,
   "metadata": {},
   "outputs": [
    {
     "data": {
      "text/html": [
       "<div>\n",
       "<style scoped>\n",
       "    .dataframe tbody tr th:only-of-type {\n",
       "        vertical-align: middle;\n",
       "    }\n",
       "\n",
       "    .dataframe tbody tr th {\n",
       "        vertical-align: top;\n",
       "    }\n",
       "\n",
       "    .dataframe thead th {\n",
       "        text-align: right;\n",
       "    }\n",
       "</style>\n",
       "<table border=\"1\" class=\"dataframe\">\n",
       "  <thead>\n",
       "    <tr style=\"text-align: right;\">\n",
       "      <th></th>\n",
       "      <th>rank</th>\n",
       "      <th>selected</th>\n",
       "    </tr>\n",
       "  </thead>\n",
       "  <tbody>\n",
       "    <tr>\n",
       "      <th>pre_mean</th>\n",
       "      <td>1</td>\n",
       "      <td>1</td>\n",
       "    </tr>\n",
       "    <tr>\n",
       "      <th>hum_mean</th>\n",
       "      <td>1</td>\n",
       "      <td>1</td>\n",
       "    </tr>\n",
       "    <tr>\n",
       "      <th>tem_mean</th>\n",
       "      <td>1</td>\n",
       "      <td>1</td>\n",
       "    </tr>\n",
       "    <tr>\n",
       "      <th>tem_std</th>\n",
       "      <td>1</td>\n",
       "      <td>1</td>\n",
       "    </tr>\n",
       "    <tr>\n",
       "      <th>tem_kurt</th>\n",
       "      <td>1</td>\n",
       "      <td>1</td>\n",
       "    </tr>\n",
       "    <tr>\n",
       "      <th>hum_kurt</th>\n",
       "      <td>2</td>\n",
       "      <td>0</td>\n",
       "    </tr>\n",
       "    <tr>\n",
       "      <th>hum_std</th>\n",
       "      <td>3</td>\n",
       "      <td>0</td>\n",
       "    </tr>\n",
       "    <tr>\n",
       "      <th>pre_kurt</th>\n",
       "      <td>4</td>\n",
       "      <td>0</td>\n",
       "    </tr>\n",
       "    <tr>\n",
       "      <th>pre_std</th>\n",
       "      <td>5</td>\n",
       "      <td>0</td>\n",
       "    </tr>\n",
       "  </tbody>\n",
       "</table>\n",
       "</div>"
      ],
      "text/plain": [
       "          rank  selected\n",
       "pre_mean     1         1\n",
       "hum_mean     1         1\n",
       "tem_mean     1         1\n",
       "tem_std      1         1\n",
       "tem_kurt     1         1\n",
       "hum_kurt     2         0\n",
       "hum_std      3         0\n",
       "pre_kurt     4         0\n",
       "pre_std      5         0"
      ]
     },
     "execution_count": 12,
     "metadata": {},
     "output_type": "execute_result"
    }
   ],
   "source": [
    "x_train, x_test, y_train, y_test = dfs[ DF._FULL ]\n",
    "\n",
    "selected_rfe = select_k_rfe( x_train, y_train, df_full.columns[ : -1 ], 5 )\n",
    "selected_rfe"
   ]
  },
  {
   "cell_type": "code",
   "execution_count": 13,
   "metadata": {},
   "outputs": [],
   "source": [
    "dfs[ DF._REDUCED_RFE ] = df_full.drop( columns = selected_rfe.index[ 5: ] )\n",
    "dfs[ DF._REDUCED_RFE ].to_csv( os.path.join( *out_path, 'ds-gym-fs-rfe.csv' ) )"
   ]
  },
  {
   "cell_type": "markdown",
   "metadata": {},
   "source": [
    "## 3.2 Selecting K-best"
   ]
  },
  {
   "cell_type": "code",
   "execution_count": 14,
   "metadata": {},
   "outputs": [
    {
     "data": {
      "text/html": [
       "<div>\n",
       "<style scoped>\n",
       "    .dataframe tbody tr th:only-of-type {\n",
       "        vertical-align: middle;\n",
       "    }\n",
       "\n",
       "    .dataframe tbody tr th {\n",
       "        vertical-align: top;\n",
       "    }\n",
       "\n",
       "    .dataframe thead th {\n",
       "        text-align: right;\n",
       "    }\n",
       "</style>\n",
       "<table border=\"1\" class=\"dataframe\">\n",
       "  <thead>\n",
       "    <tr style=\"text-align: right;\">\n",
       "      <th></th>\n",
       "      <th>score</th>\n",
       "      <th>p-value</th>\n",
       "    </tr>\n",
       "  </thead>\n",
       "  <tbody>\n",
       "    <tr>\n",
       "      <th>pre_mean</th>\n",
       "      <td>105.29</td>\n",
       "      <td>0.00</td>\n",
       "    </tr>\n",
       "    <tr>\n",
       "      <th>hum_mean</th>\n",
       "      <td>102.77</td>\n",
       "      <td>0.00</td>\n",
       "    </tr>\n",
       "    <tr>\n",
       "      <th>tem_mean</th>\n",
       "      <td>97.42</td>\n",
       "      <td>0.00</td>\n",
       "    </tr>\n",
       "    <tr>\n",
       "      <th>pre_std</th>\n",
       "      <td>49.79</td>\n",
       "      <td>0.00</td>\n",
       "    </tr>\n",
       "    <tr>\n",
       "      <th>tem_kurt</th>\n",
       "      <td>22.76</td>\n",
       "      <td>0.00</td>\n",
       "    </tr>\n",
       "    <tr>\n",
       "      <th>pre_kurt</th>\n",
       "      <td>11.46</td>\n",
       "      <td>0.00</td>\n",
       "    </tr>\n",
       "    <tr>\n",
       "      <th>hum_std</th>\n",
       "      <td>10.37</td>\n",
       "      <td>0.00</td>\n",
       "    </tr>\n",
       "    <tr>\n",
       "      <th>tem_std</th>\n",
       "      <td>4.31</td>\n",
       "      <td>0.01</td>\n",
       "    </tr>\n",
       "    <tr>\n",
       "      <th>hum_kurt</th>\n",
       "      <td>3.72</td>\n",
       "      <td>0.02</td>\n",
       "    </tr>\n",
       "  </tbody>\n",
       "</table>\n",
       "</div>"
      ],
      "text/plain": [
       "          score  p-value\n",
       "pre_mean 105.29     0.00\n",
       "hum_mean 102.77     0.00\n",
       "tem_mean  97.42     0.00\n",
       "pre_std   49.79     0.00\n",
       "tem_kurt  22.76     0.00\n",
       "pre_kurt  11.46     0.00\n",
       "hum_std   10.37     0.00\n",
       "tem_std    4.31     0.01\n",
       "hum_kurt   3.72     0.02"
      ]
     },
     "execution_count": 14,
     "metadata": {},
     "output_type": "execute_result"
    }
   ],
   "source": [
    "pd.options.display.float_format = '{:,.2f}'.format\n",
    "np.set_printoptions( precision = 2 )\n",
    "\n",
    "selected_kbest = select_k_best( x_train, y_train, df_full.columns[ : -1 ], 'all' )\n",
    "selected_kbest"
   ]
  },
  {
   "cell_type": "code",
   "execution_count": 15,
   "metadata": {},
   "outputs": [],
   "source": [
    "dfs[ DF._REDUCED_KBEST ] = df_full.drop( columns = selected_kbest.index[ 5: ] )\n",
    "dfs[ DF._REDUCED_RFE ].to_csv( os.path.join( *out_path, 'ds-gym-fs-kbest.csv' ) )"
   ]
  },
  {
   "cell_type": "markdown",
   "metadata": {},
   "source": [
    "## 3.3 Feature Correlation"
   ]
  },
  {
   "cell_type": "code",
   "execution_count": 16,
   "metadata": {},
   "outputs": [
    {
     "data": {
      "text/plain": [
       "<matplotlib.axes._subplots.AxesSubplot at 0x7fb878ab0890>"
      ]
     },
     "execution_count": 16,
     "metadata": {},
     "output_type": "execute_result"
    },
    {
     "data": {
      "image/png": "[encoded data removed]",
      "text/plain": [
       "<Figure size 1440x432 with 2 Axes>"
      ]
     },
     "metadata": {
      "needs_background": "light"
     },
     "output_type": "display_data"
    }
   ],
   "source": [
    "temp = np.concatenate( ( x_train, y_train.replace( { 'E': 0, 'L':1, 'M':2, 'H':3 } ).values.reshape( len( y_train ), 1 ) ), axis = 1 )\n",
    "temp = pd.DataFrame( data = temp, columns = df_full.columns )\n",
    "\n",
    "plt.subplots( 1, 1, figsize = ( 20, 6 ) )\n",
    "sns.heatmap( temp.corr(), annot = True )"
   ]
  }
 ],
 "metadata": {
  "kernelspec": {
   "display_name": "Python 3",
   "language": "python",
   "name": "python3"
  },
  "language_info": {
   "codemirror_mode": {
    "name": "ipython",
    "version": 3
   },
   "file_extension": ".py",
   "mimetype": "text/x-python",
   "name": "python",
   "nbconvert_exporter": "python",
   "pygments_lexer": "ipython3",
   "version": "3.7.6"
  }
 },
 "nbformat": 4,
 "nbformat_minor": 4
}
