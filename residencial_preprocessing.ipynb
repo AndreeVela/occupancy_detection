{
 "cells": [
  {
   "cell_type": "code",
   "execution_count": 51,
   "metadata": {},
   "outputs": [],
   "source": [
    "import pandas as pd\n",
    "import numpy as np\n",
    "import matplotlib.pyplot as plt \n",
    "import seaborn as sns\n",
    "from datetime import timedelta\n"
   ]
  },
  {
   "cell_type": "code",
   "execution_count": 61,
   "metadata": {},
   "outputs": [],
   "source": [
    "def read_sheet( file_name, sheet_name ):\n",
    "    \n",
    "    df = pd.read_excel( 'dataset-residential.xlsx', sheet_name = 'Sunday 24 May' )\n",
    "    df = df.drop( df.columns[ 10: ], axis = 1 ) # droping unrealted columns\n",
    "\n",
    "    # megin together date and time columns\n",
    "    \n",
    "    df[ 'Date' ] = df[ 'Date' ].astype( 'str' ) + ' ' +  df[ 'Hour' ].astype( 'str' )\n",
    "    df[ 'Date' ] = pd.to_datetime( df[ 'Date' ] )\n",
    "    df = df.drop( [ 'Hour', 'Time Zone', 'Day' ], axis = 1 )\n",
    "    \n",
    "    # moving the timezone from UTC to CDT and removing timezone information\n",
    "    \n",
    "    df = df.set_index( 'Date', drop = True ).tz_localize( 'UTC' ).tz_convert( 'US/Central' ).tz_localize( None )\n",
    "    \n",
    "    rename_map = { \n",
    "        'Pressure (hPa)': 'pre', \n",
    "        'Altitude (m)': 'alt', \n",
    "        'Humidity (%)': 'hum', \n",
    "        'Temperature (C) ': 'tem', \n",
    "        'Ventilador': 'ven', \n",
    "        'Personas': 'occ' }\n",
    "    \n",
    "    return df.rename( columns = rename_map )\n"
   ]
  },
  {
   "cell_type": "code",
   "execution_count": 57,
   "metadata": {},
   "outputs": [
    {
     "data": {
      "text/plain": [
       "pre                 0\n",
       "alt                 0\n",
       "hum                 0\n",
       "Temperature (C)     0\n",
       "ven                 0\n",
       "occ                 0\n",
       "dtype: int64"
      ]
     },
     "execution_count": 57,
     "metadata": {},
     "output_type": "execute_result"
    }
   ],
   "source": [
    "sheets = [ 'Sunday 24 May', 'Monday 25 May', 'Tuesday 26 May', 'Wednesday 27 May', 'Thursday 28 May', 'Friday 29 May', 'Sunday May 31', 'Monday June 1', 'Thurday June 4', 'Friday June 5' ]"
   ]
  },
  {
   "cell_type": "code",
   "execution_count": null,
   "metadata": {},
   "outputs": [],
   "source": []
  }
 ],
 "metadata": {
  "kernelspec": {
   "display_name": "Python 3",
   "language": "python",
   "name": "python3"
  },
  "language_info": {
   "codemirror_mode": {
    "name": "ipython",
    "version": 3
   },
   "file_extension": ".py",
   "mimetype": "text/x-python",
   "name": "python",
   "nbconvert_exporter": "python",
   "pygments_lexer": "ipython3",
   "version": "3.7.6"
  }
 },
 "nbformat": 4,
 "nbformat_minor": 4
}
